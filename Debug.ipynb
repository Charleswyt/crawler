{
 "cells": [
  {
   "cell_type": "code",
   "execution_count": 1,
   "metadata": {},
   "outputs": [],
   "source": [
    "# 代码导入\n",
    "from utils import *\n",
    "from facebook import *"
   ]
  },
  {
   "cell_type": "code",
   "execution_count": 2,
   "metadata": {},
   "outputs": [],
   "source": [
    "# 当前登录账户信息\n",
    "user_name_for_upload = \"qiao3014659@gmail.com\"\n",
    "password_for_upload = \"qiao13593537918\""
   ]
  },
  {
   "cell_type": "code",
   "execution_count": 3,
   "metadata": {},
   "outputs": [],
   "source": [
    "# Facebook类初始化\n",
    "fb = Facebook(user_name_for_upload, password_for_upload)"
   ]
  },
  {
   "cell_type": "code",
   "execution_count": 4,
   "metadata": {},
   "outputs": [],
   "source": [
    "# 账户登录\n",
    "fb.sign_in()"
   ]
  },
  {
   "cell_type": "code",
   "execution_count": 5,
   "metadata": {},
   "outputs": [],
   "source": [
    "# 状态发布\n",
    "fb.make_post()"
   ]
  },
  {
   "cell_type": "code",
   "execution_count": 7,
   "metadata": {},
   "outputs": [
    {
     "name": "stdout",
     "output_type": "stream",
     "text": [
      "user_name:  Qiao Fengchun\n",
      "user_id:  100012127725531\n",
      "homepage_url:  https://www.facebook.com/qiao.fengchun\n"
     ]
    }
   ],
   "source": [
    " # 获取当前登录账户信息 (user_name, user_id, homepage_url)\n",
    "fb.get_myself_info()\n",
    "\n",
    "# 信息打印\n",
    "print(\"user name:\", fb.user_name)\n",
    "print(\"user id:\", fb.user_id)\n",
    "print(\"homepage url:\", fb.homepage_url)"
   ]
  },
  {
   "cell_type": "code",
   "execution_count": 8,
   "metadata": {},
   "outputs": [],
   "source": [
    "# 进入当前登录账户的主页\n",
    "fb.enter_homepage_self()"
   ]
  },
  {
   "cell_type": "code",
   "execution_count": 12,
   "metadata": {},
   "outputs": [
    {
     "name": "stdout",
     "output_type": "stream",
     "text": [
      "user_id:  100012127725531\n"
     ]
    }
   ],
   "source": [
    "# 输入用户主页，获取用户ID\n",
    "user_id = fb.get_user_id(\"https://www.facebook.com/qiao.fengchun\")\n",
    "print(\"user id:\", user_id)"
   ]
  },
  {
   "cell_type": "code",
   "execution_count": 13,
   "metadata": {},
   "outputs": [
    {
     "name": "stdout",
     "output_type": "stream",
     "text": [
      "friends number: 2\n"
     ]
    }
   ],
   "source": [
    "# 获取好友数量\n",
    "fb.get_friends_number()\n",
    "print(\"friends number:\", fb.friends_number)"
   ]
  },
  {
   "cell_type": "code",
   "execution_count": 21,
   "metadata": {},
   "outputs": [
    {
     "name": "stdout",
     "output_type": "stream",
     "text": [
      "The info of friends list:\n",
      "0, 周明星, 100022483429126, https://www.facebook.com/profile.php?id=100022483429126\n",
      "1, Yijie Dong, 100008203770893, https://www.facebook.com/profile.php?id=100008203770893\n"
     ]
    }
   ],
   "source": [
    "# 获取当前登录账户的好友列表\n",
    "friends_number = 3\n",
    "fb.get_friends_list(friends_number=friends_number)\n",
    "\n",
    "index = 0\n",
    "print(\"The info of friends list:\")\n",
    "for user_info in fb.user_info_friends:\n",
    "    print(\"%d, %s, %s, %s\" % (index, user_info[0], user_info[1], user_info[2]))\n",
    "    index += 1"
   ]
  },
  {
   "cell_type": "code",
   "execution_count": 53,
   "metadata": {},
   "outputs": [
    {
     "name": "stdout",
     "output_type": "stream",
     "text": [
      "user_search_class_name: _1yt\n",
      "user_name_class_name: _32mo\n"
     ]
    }
   ],
   "source": [
    "# 获取用于用户信息获取的class name\n",
    "fb.get_class_name_for_search()\n",
    "print(\"user_search_class_name:\", fb.user_search_class_name)\n",
    "print(\"user_name_class_name:\", fb.user_name_class_name)"
   ]
  },
  {
   "cell_type": "code",
   "execution_count": 7,
   "metadata": {},
   "outputs": [
    {
     "name": "stdout",
     "output_type": "stream",
     "text": [
      "1 Qiao Fengchun 100012127725531 https://www.facebook.com/qiao.fengchun \n",
      "2 喬奉純 100002686100750 https://www.facebook.com/afratuzdufeyh \n"
     ]
    }
   ],
   "source": [
    "# 用户检索\n",
    "user_name = \"qiaofengchun\"\n",
    "user_number = 3\n",
    "user_info_list = fb.search_users(user_name=user_name, user_number=user_number)\n",
    "\n",
    "# 打印用户信息 (user_name, user_id, location, homepage_url)\n",
    "index = 0\n",
    "for user_info in user_info_list:\n",
    "    index += 1\n",
    "    print(index, user_info[0], user_info[1], user_info[2], user_info[3])"
   ]
  },
  {
   "cell_type": "code",
   "execution_count": 5,
   "metadata": {},
   "outputs": [
    {
     "name": "stdout",
     "output_type": "stream",
     "text": [
      "1 https://www.facebook.com/photo.php?fbid=446571722423748&set=pb.100012127725531.-2207520000.1525285529.&type=3&size=1125%2C750\n",
      "2 https://www.facebook.com/photo.php?fbid=446571659090421&set=pb.100012127725531.-2207520000.1525285529.&type=3&size=1125%2C750\n",
      "3 https://www.facebook.com/photo.php?fbid=446571649090422&set=pb.100012127725531.-2207520000.1525285529.&type=3&size=1125%2C750\n",
      "4 https://www.facebook.com/photo.php?fbid=446569982423922&set=pb.100012127725531.-2207520000.1525285529.&type=3&size=1125%2C750\n",
      "5 https://www.facebook.com/photo.php?fbid=446569932423927&set=pb.100012127725531.-2207520000.1525285529.&type=3&size=1125%2C750\n",
      "6 https://www.facebook.com/photo.php?fbid=446569922423928&set=pb.100012127725531.-2207520000.1525285529.&type=3&size=1125%2C750\n",
      "7 https://www.facebook.com/photo.php?fbid=446210509126536&set=pb.100012127725531.-2207520000.1525285529.&type=3&size=1050%2C693\n",
      "8 https://www.facebook.com/photo.php?fbid=446210499126537&set=pb.100012127725531.-2207520000.1525285529.&type=3&size=1000%2C606\n",
      "9 https://www.facebook.com/photo.php?fbid=446210455793208&set=pb.100012127725531.-2207520000.1525285529.&type=3&size=1200%2C800\n",
      "10 https://www.facebook.com/photo.php?fbid=446210439126543&set=pb.100012127725531.-2207520000.1525285529.&type=3&size=1200%2C750\n",
      "11 https://www.facebook.com/photo.php?fbid=446210382459882&set=pb.100012127725531.-2207520000.1525285529.&type=3&size=1000%2C657\n",
      "12 https://www.facebook.com/photo.php?fbid=446210372459883&set=pb.100012127725531.-2207520000.1525285529.&type=3&size=1050%2C591\n",
      "13 https://www.facebook.com/photo.php?fbid=446210355793218&set=pb.100012127725531.-2207520000.1525285529.&type=3&size=1050%2C591\n",
      "14 https://www.facebook.com/photo.php?fbid=446210345793219&set=pb.100012127725531.-2207520000.1525285529.&type=3&size=1050%2C657\n",
      "15 https://www.facebook.com/photo.php?fbid=446166185797635&set=pb.100012127725531.-2207520000.1525285529.&type=3&size=1200%2C791\n",
      "16 https://www.facebook.com/photo.php?fbid=446166132464307&set=pb.100012127725531.-2207520000.1525285529.&type=3&size=1200%2C675\n",
      "17 https://www.facebook.com/photo.php?fbid=446166122464308&set=pb.100012127725531.-2207520000.1525285529.&type=3&size=1200%2C750\n",
      "18 https://www.facebook.com/photo.php?fbid=446166112464309&set=pb.100012127725531.-2207520000.1525285529.&type=3&size=1200%2C675\n",
      "19 https://www.facebook.com/photo.php?fbid=443127046101549&set=pb.100012127725531.-2207520000.1525285529.&type=3&size=288%2C163\n",
      "20 https://www.facebook.com/photo.php?fbid=439894299758157&set=pb.100012127725531.-2207520000.1525285529.&type=3&size=960%2C632\n"
     ]
    }
   ],
   "source": [
    "# 根据用户的主页链接，获取当前用户发布图片的链接(初始连接)\n",
    "photos_href_list = fb.get_photos_href_list(\"https://www.facebook.com/qiao.fengchun\")\n",
    "index = 0\n",
    "for photo_href in photos_href_list:\n",
    "    index += 1\n",
    "    print(index, photo_href)"
   ]
  },
  {
   "cell_type": "code",
   "execution_count": 7,
   "metadata": {},
   "outputs": [
    {
     "name": "stdout",
     "output_type": "stream",
     "text": [
      "https://www.facebook.com/photo.php?fbid=446571722423748&set=pb.100012127725531.-2207520000.1525285529.&type=3&size=1125%2C750\n",
      "https://www.facebook.com/photo.php?fbid=446571659090421&set=pb.100012127725531.-2207520000.1525285529.&type=3&size=1125%2C750\n",
      "https://www.facebook.com/photo.php?fbid=446571649090422&set=pb.100012127725531.-2207520000.1525285529.&type=3&size=1125%2C750\n",
      "https://www.facebook.com/photo.php?fbid=446569982423922&set=pb.100012127725531.-2207520000.1525285529.&type=3&size=1125%2C750\n",
      "https://www.facebook.com/photo.php?fbid=446569932423927&set=pb.100012127725531.-2207520000.1525285529.&type=3&size=1125%2C750\n",
      "https://www.facebook.com/photo.php?fbid=446569922423928&set=pb.100012127725531.-2207520000.1525285529.&type=3&size=1125%2C750\n",
      "https://www.facebook.com/photo.php?fbid=446210509126536&set=pb.100012127725531.-2207520000.1525285529.&type=3&size=1050%2C693\n",
      "https://www.facebook.com/photo.php?fbid=446210499126537&set=pb.100012127725531.-2207520000.1525285529.&type=3&size=1000%2C606\n",
      "https://www.facebook.com/photo.php?fbid=446210455793208&set=pb.100012127725531.-2207520000.1525285529.&type=3&size=1200%2C800\n",
      "https://www.facebook.com/photo.php?fbid=446210439126543&set=pb.100012127725531.-2207520000.1525285529.&type=3&size=1200%2C750\n",
      "https://www.facebook.com/photo.php?fbid=446210382459882&set=pb.100012127725531.-2207520000.1525285529.&type=3&size=1000%2C657\n",
      "https://www.facebook.com/photo.php?fbid=446210372459883&set=pb.100012127725531.-2207520000.1525285529.&type=3&size=1050%2C591\n",
      "https://www.facebook.com/photo.php?fbid=446210355793218&set=pb.100012127725531.-2207520000.1525285529.&type=3&size=1050%2C591\n",
      "https://www.facebook.com/photo.php?fbid=446210345793219&set=pb.100012127725531.-2207520000.1525285529.&type=3&size=1050%2C657\n",
      "https://www.facebook.com/photo.php?fbid=446166185797635&set=pb.100012127725531.-2207520000.1525285529.&type=3&size=1200%2C791\n",
      "https://www.facebook.com/photo.php?fbid=446166132464307&set=pb.100012127725531.-2207520000.1525285529.&type=3&size=1200%2C675\n",
      "https://www.facebook.com/photo.php?fbid=446166122464308&set=pb.100012127725531.-2207520000.1525285529.&type=3&size=1200%2C750\n",
      "https://www.facebook.com/photo.php?fbid=446166112464309&set=pb.100012127725531.-2207520000.1525285529.&type=3&size=1200%2C675\n",
      "https://www.facebook.com/photo.php?fbid=443127046101549&set=pb.100012127725531.-2207520000.1525285529.&type=3&size=288%2C163\n",
      "https://www.facebook.com/photo.php?fbid=439894299758157&set=pb.100012127725531.-2207520000.1525285529.&type=3&size=960%2C632\n"
     ]
    }
   ],
   "source": [
    "# 获取图片信息列表\n",
    "photos_info_list = fb.get_photos_info_list(photos_href_list)"
   ]
  },
  {
   "cell_type": "code",
   "execution_count": 8,
   "metadata": {},
   "outputs": [
    {
     "name": "stdout",
     "output_type": "stream",
     "text": [
      "1 https://scontent-nrt1-1.xx.fbcdn.net/v/t1.0-9/31265508_446571729090414_1347053369256050688_n.jpg?_nc_cat=0&_nc_eui2=v1%3AAeHVEm9Fb6SyiDuEkMaUQgOhW-ub3iMSn8MJlH-s5vKqcU1VdBjwvfIeJysoUKCnf-TfVIja1JP51VGPYq31vldF6g5m1y7ldG4vuG9fX33j2w&oh=54748f4cd4986b61b963cac53edfc634&oe=5B54EEFB 1524718018   1125 750\n",
      "2 https://scontent-nrt1-1.xx.fbcdn.net/v/t1.0-9/31271305_446571665757087_1584572121651085312_n.jpg?_nc_cat=0&_nc_eui2=v1%3AAeEhrgM2bt34CdLMH5TyerHHDoG03SPDRViSCAYwLl9_WWgL-FbZpfpgdLVlkOExjhPDYlP6n7wzICPgaMoKbCOvemKsqUfwrwZ83XJuNY_Pvg&oh=2d3bc4a6ee82da496568a78976c280af&oe=5B4F1A72 1524718010   1125 750\n",
      "3 https://scontent-nrt1-1.xx.fbcdn.net/v/t1.0-9/31301954_446571655757088_6284585641464299520_n.jpg?_nc_cat=0&_nc_eui2=v1%3AAeE8p7ggK6uQKMNsB93rw7heRfTIuuisWDShJMhquQ3XuJ9uicHpL3aNdLLuvDxQ7ZeeEdmfzMgok9tLJtd-5l2a96psevsgnhl57-ISa03QIw&oh=a3564b7cb4cff34064ff7f9d047470b5&oe=5B4E8BFC 1524718010   1125 750\n",
      "4 https://scontent-nrt1-1.xx.fbcdn.net/v/t1.0-9/31389493_446569985757255_4232039651382132736_n.jpg?_nc_cat=0&_nc_eui2=v1%3AAeHq4s2F5iLYVV-IrCa39i7FpCXAKI3deDluAQqgwmP_MOmnTFyklZyN7OO5r75Na2xosgmyDWzvSs5KU0lFT-pu0a58saHfnF41apyxAv820w&oh=e5a296bf17d224092eb932bd4596413f&oe=5B906BA3 1524717465   1125 750\n",
      "5 https://scontent-nrt1-1.xx.fbcdn.net/v/t1.0-9/31265385_446569939090593_897859550269407232_n.jpg?_nc_cat=0&_nc_eui2=v1%3AAeEl_CM_U8I1tvOl5jiMBgzXdyNe6TZ9uIMEBSblc6nhj8FYlCQCYNZRwgL8UXRZ5GwmznJ_wFpVXwLr4Ra6uS-j7g1HepY9GsDTwFJL0EDTSw&oh=6b22a14abe946128fd2eb5dd3b5dd85c&oe=5B5818B9 1524717458   1125 750\n",
      "6 https://scontent-nrt1-1.xx.fbcdn.net/v/t1.0-9/31265586_446569925757261_2754805539916480512_n.jpg?_nc_cat=0&_nc_eui2=v1%3AAeFvJCUbo0dg2NUYOSGUeUWRnHz3pmHnD_kk0LodbaZ8JU1k7YeoZ9Wb7dQj2t_elf7iy0D9JDH3KtOl0h8MHjXGNjxZFBnijY2_8V8X8WlJFA&oh=dc97a7d160e9fb3a12eda4cc4f0e8c5f&oe=5B59E9C1 1524717458   1125 750\n",
      "7 https://scontent-nrt1-1.xx.fbcdn.net/v/t1.0-9/31252827_446210515793202_7787992699516223488_n.jpg?_nc_cat=0&_nc_eui2=v1%3AAeE7c2qnZeYZNnpLu7J2aMJKyUTBLwXFA45NH_2KRAAbQ4r1nO6C9pDEkRjrZjvtrP4swTdAt0I41XguqeCznU1qrKIhoeTAhXaxqT2Cy4C3gg&oh=2c722ceceec50e2ecfe29660b559514f&oe=5B513E1F 1524639177   1050 693\n",
      "8 https://scontent-nrt1-1.xx.fbcdn.net/v/t1.0-9/31369705_446210502459870_3964320793495601152_n.jpg?_nc_cat=0&_nc_eui2=v1%3AAeFzxQDfAQdmlo3A76JqrkhzNR52qFQAwQEXtG-j2H9i0WNg5ljawFgAvx2FcqWDRa7k9thPUvrKAc4WtxvdQiKCYJBqkaVW2_-51Wlp_tyA0w&oh=385930c7eaa6b8e1c02b20507c664507&oe=5B4F3883 1524639229   1000 606\n",
      "9 https://scontent-nrt1-1.xx.fbcdn.net/v/t1.0-9/31265248_446210462459874_2401456510300323840_n.jpg?_nc_cat=0&_nc_eui2=v1%3AAeHKJpI5ceGZqDL45p5JM_VAZfTl_Oj8tIQgHEzlzms1s2RYjhbITD6qhU9w_k7VWhJjHDNxlzUf6SzZFbEKZEM2O26eDexk17FJ8UFxfPr8Pg&oh=7a81ec996fb9eea3b1dd6e0fed1592dc&oe=5B950507 1524639229   1200 800\n",
      "10 https://scontent-nrt1-1.xx.fbcdn.net/v/t1.0-9/31232123_446210442459876_4875498242780954624_n.jpg?_nc_cat=0&_nc_eui2=v1%3AAeFxQXYEqo0Ta1yGaR1OerrBC7E3xACvfuRO12AYekKNJGjGr1xKFxznyvOoDiAwYGSqQkHlOx5Bt1wDfIX8ncpEtiDybP1uv3mYUYJj61gNIg&oh=0350b247c45f3cc675c7ab36a259422b&oe=5B564AF9 1524639229   1200 750\n",
      "11 https://scontent-nrt1-1.xx.fbcdn.net/v/t1.0-9/31225844_446210395793214_7326253736324497408_n.jpg?_nc_cat=0&_nc_eui2=v1%3AAeFQ5RBL3eXp-aPuBGWaIyBsBQHaU3Furm6UGHH2ypnsp7nSQ6qnDAhCAUonhh7JYiU_N24r0KlhEWwSsV7zvOdu8hxOb4FblLDDCfDXAlDivg&oh=df8fcd72deb2455d356c9e66652495aa&oe=5B94C739 1524639229   1000 657\n",
      "12 https://scontent-nrt1-1.xx.fbcdn.net/v/t1.0-9/31189724_446210375793216_2821435042616573952_n.jpg?_nc_cat=0&_nc_eui2=v1%3AAeGYLrAfs5EDMcpImicHSTv8jrztSddKlNLE0fOLVFKUxe1rAqXlutmIoOkUKfZlrxbINhemlIrEUq2O0HbKF6s6R-0tOv2K33qfjRXvwATSlg&oh=9a1185c02ec6ed5b6233786a8538ab78&oe=5B51639E 1524639172   1050 591\n",
      "13 https://scontent-nrt1-1.xx.fbcdn.net/v/t1.0-9/31394380_446210362459884_5387864940428132352_n.jpg?_nc_cat=0&_nc_eui2=v1%3AAeH2WJEJoGtTRr5eOvc_jMAVHaAPXgKOPPqtFrsVP3mfINW4-yHkmWS67r6G_Rhfow6Dzdrf0lnP7qTSUVbUVNdo4mA9WoaJwbRVRhIMosdOEQ&oh=11b4bb09aed319677a2b0c443f8b6144&oe=5B9B29CE 1524639171   1050 591\n",
      "14 https://scontent-nrt1-1.xx.fbcdn.net/v/t1.0-9/31239330_446210349126552_2539350262154264576_n.jpg?_nc_cat=0&_nc_eui2=v1%3AAeEntQZM7r5rtPjDfu3PEwU15XPeWnQhQR5oVRDZj8v6sMePDj_0vMSvmJv5IoEcQ1Ogt0H9_WABWgHgvTa6ZbKtZxnC7iqb-YDAht4eyPOx-w&oh=c06ab3b553d85ef91b808e7d75fd64e6&oe=5B5AA58B 1524639171   1050 657\n",
      "15 https://scontent-nrt1-1.xx.fbcdn.net/v/t1.0-9/31224291_446166189130968_384950003115753472_n.jpg?_nc_cat=0&_nc_eui2=v1%3AAeGMtjB4RXksqeVvS-divcvhCvnxVV1-5WCogZDEdgA0fZRe1kfnR0rh71EYDTuNMnN79E_JBoXWZE02OmyXcs5hcrWDZ6qz0lj1O-O9h7QrPw&oh=223a1de3606308fcf5b192a80b976165&oe=5B502010 1524627134   1200 791\n",
      "16 https://scontent-nrt1-1.xx.fbcdn.net/v/t1.0-9/31301688_446166145797639_8026733035099521024_n.jpg?_nc_cat=0&_nc_eui2=v1%3AAeFh-q1Uuz0v0pZQ69Vm9s3aM9PVrnF2HTof79CMSlPfGdZ14whVo2CBjVrWZ5z_ocoVnVzUkoshYZF68GmvbJpblZ_Muucl9W06u8b8p6YAFQ&oh=790694be3a94d2f7779cc3133ec56a43&oe=5B537CDD 1524627134   1200 675\n",
      "17 https://scontent-nrt1-1.xx.fbcdn.net/v/t1.0-9/31265206_446166129130974_3789784090069172224_n.jpg?_nc_cat=0&_nc_eui2=v1%3AAeHY36fjg0Mg3c3XVPz0UljGzCjLSPxK4xNB8x-u_b1IKFDAOBBqGjSj6Pd4iok5uDpK1CLOL5FG2Rt3-fgcRl7PFlE11o6JUOrP0J9cVrwpXQ&oh=ddaf8e641b675f29a7154b6f33b2a83c&oe=5B5FEDB6 1524627134   1200 750\n",
      "18 https://scontent-nrt1-1.xx.fbcdn.net/v/t1.0-9/31223497_446166119130975_6813673948169895936_n.jpg?_nc_cat=0&_nc_eui2=v1%3AAeFpHizNQeYI0djyXK54wN_RLE-N9QP6bCEDSKVph5IMWkcAUYeZ1vpe0svZyNSmCBTFmLJkpbUH4VHnwDmh7h89NuT2bfl1ac2cGP_SarMj9w&oh=2c629b38ce8cf16771a80bfd9982bb27&oe=5B99A2D7 1524627134   1200 675\n",
      "19 https://scontent-nrt1-1.xx.fbcdn.net/v/t1.0-9/30704408_443127049434882_4689523294120968192_n.jpg?_nc_cat=0&_nc_eui2=v1%3AAeFKs0APQfKs9p30YemMqee-jxcpUkQ0luMT4oNjG4rCOYR7lPaaD-6mSj5VCWHTslZn5bPzJSh7lFNuOkUhdMIHQd6ONMHvJLfg8wz9BSM3dg&oh=0079f25548c9d2e408556f80b58655b8&oe=5B907BCB 1523929098   288 163\n",
      "20 https://scontent-nrt1-1.xx.fbcdn.net/v/t1.0-9/30441634_439894306424823_9215412362943660032_n.jpg?_nc_cat=0&_nc_eui2=v1%3AAeFhO8esuIER1NRwaGM6uhMkMnskBxlvBR3kjZc_AF3X8EJgChRtCezz5rA41HvixaktnnN9Ct4hig7h51dF3TFzyR87a9yz00rhkxYV9u9_fA&oh=c65b59d31608566616c202160245ccb1&oe=5B625676 1523189480   960 632\n"
     ]
    }
   ],
   "source": [
    "index = 0\n",
    "for photo_info in photos_info_list:\n",
    "    index += 1\n",
    "    print(index, photo_info[0], photo_info[1], photo_info[2], photo_info[3], photo_info[4], photo_info[5])"
   ]
  },
  {
   "cell_type": "code",
   "execution_count": null,
   "metadata": {},
   "outputs": [],
   "source": []
  }
 ],
 "metadata": {
  "kernelspec": {
   "display_name": "Python 3",
   "language": "python",
   "name": "python3"
  },
  "language_info": {
   "codemirror_mode": {
    "name": "ipython",
    "version": 3
   },
   "file_extension": ".py",
   "mimetype": "text/x-python",
   "name": "python",
   "nbconvert_exporter": "python",
   "pygments_lexer": "ipython3",
   "version": "3.5.3"
  }
 },
 "nbformat": 4,
 "nbformat_minor": 2
}
