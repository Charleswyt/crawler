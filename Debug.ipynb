{
 "cells": [
  {
   "cell_type": "code",
   "execution_count": 1,
   "metadata": {},
   "outputs": [],
   "source": [
    "# 代码导入\n",
    "from utils import *\n",
    "from facebook import *"
   ]
  },
  {
   "cell_type": "code",
   "execution_count": 2,
   "metadata": {},
   "outputs": [],
   "source": [
    "# 当前登录账户信息\n",
    "user_name_for_upload = \"qiao3014659@gmail.com\"\n",
    "password_for_upload = \"qiao13593537918\""
   ]
  },
  {
   "cell_type": "code",
   "execution_count": 3,
   "metadata": {},
   "outputs": [],
   "source": [
    "# Facebook类初始化\n",
    "fb = Facebook(user_name_for_upload, password_for_upload)"
   ]
  },
  {
   "cell_type": "code",
   "execution_count": 4,
   "metadata": {},
   "outputs": [],
   "source": [
    "# 账户登录\n",
    "fb.sign_in()"
   ]
  },
  {
   "cell_type": "code",
   "execution_count": 5,
   "metadata": {},
   "outputs": [],
   "source": [
    "# 状态发布\n",
    "fb.make_post()"
   ]
  },
  {
   "cell_type": "code",
   "execution_count": 7,
   "metadata": {},
   "outputs": [
    {
     "name": "stdout",
     "output_type": "stream",
     "text": [
      "user_name:  Qiao Fengchun\n",
      "user_id:  100012127725531\n",
      "homepage_url:  https://www.facebook.com/qiao.fengchun\n"
     ]
    }
   ],
   "source": [
    " # 获取当前登录账户信息 (user_name, user_id, homepage_url)\n",
    "fb.get_myself_info()\n",
    "\n",
    "# 信息打印\n",
    "print(\"user name:\", fb.user_name)\n",
    "print(\"user id:\", fb.user_id)\n",
    "print(\"homepage url:\", fb.homepage_url)"
   ]
  },
  {
   "cell_type": "code",
   "execution_count": 8,
   "metadata": {},
   "outputs": [],
   "source": [
    "# 进入当前登录账户的主页\n",
    "fb.enter_homepage_self()"
   ]
  },
  {
   "cell_type": "code",
   "execution_count": 12,
   "metadata": {},
   "outputs": [
    {
     "name": "stdout",
     "output_type": "stream",
     "text": [
      "user_id:  100012127725531\n"
     ]
    }
   ],
   "source": [
    "# 输入用户主页，获取用户ID\n",
    "user_id = fb.get_user_id(\"https://www.facebook.com/qiao.fengchun\")\n",
    "print(\"user id:\", user_id)"
   ]
  },
  {
   "cell_type": "code",
   "execution_count": 13,
   "metadata": {},
   "outputs": [
    {
     "name": "stdout",
     "output_type": "stream",
     "text": [
      "friends number: 2\n"
     ]
    }
   ],
   "source": [
    "# 获取好友数量\n",
    "fb.get_friends_number()\n",
    "print(\"friends number:\", fb.friends_number)"
   ]
  },
  {
   "cell_type": "code",
   "execution_count": 21,
   "metadata": {},
   "outputs": [
    {
     "name": "stdout",
     "output_type": "stream",
     "text": [
      "The info of friends list:\n",
      "0, 周明星, 100022483429126, https://www.facebook.com/profile.php?id=100022483429126\n",
      "1, Yijie Dong, 100008203770893, https://www.facebook.com/profile.php?id=100008203770893\n"
     ]
    }
   ],
   "source": [
    "# 获取当前登录账户的好友列表\n",
    "friends_number = 3\n",
    "fb.get_friends_list(friends_number=friends_number)\n",
    "\n",
    "index = 0\n",
    "print(\"The info of friends list:\")\n",
    "for user_info in fb.user_info_friends:\n",
    "    print(\"%d, %s, %s, %s\" % (index, user_info[0], user_info[1], user_info[2]))\n",
    "    index += 1"
   ]
  },
  {
   "cell_type": "code",
   "execution_count": 53,
   "metadata": {},
   "outputs": [
    {
     "name": "stdout",
     "output_type": "stream",
     "text": [
      "user_search_class_name: _1yt\n",
      "user_name_class_name: _32mo\n"
     ]
    }
   ],
   "source": [
    "# 获取用于用户信息获取的class name\n",
    "fb.get_class_name_for_search()\n",
    "print(\"user_search_class_name:\", fb.user_search_class_name)\n",
    "print(\"user_name_class_name:\", fb.user_name_class_name)"
   ]
  },
  {
   "cell_type": "code",
   "execution_count": 7,
   "metadata": {},
   "outputs": [
    {
     "name": "stdout",
     "output_type": "stream",
     "text": [
      "1 Qiao Fengchun 100012127725531 https://www.facebook.com/qiao.fengchun \n",
      "2 喬奉純 100002686100750 https://www.facebook.com/afratuzdufeyh \n"
     ]
    }
   ],
   "source": [
    "# 用户检索\n",
    "user_name = \"qiaofengchun\"\n",
    "user_number = 3\n",
    "user_info_list = fb.search_users(user_name=user_name, user_number=user_number)\n",
    "\n",
    "# 打印用户信息 (user_name, user_id, location, homepage_url)\n",
    "index = 0\n",
    "for user_info in user_info_list:\n",
    "    index += 1\n",
    "    print(index, user_info[0], user_info[1], user_info[2], user_info[3])"
   ]
  },
  {
   "cell_type": "code",
   "execution_count": 5,
   "metadata": {},
   "outputs": [
    {
     "name": "stdout",
     "output_type": "stream",
     "text": [
      "1 https://www.facebook.com/photo.php?fbid=446571722423748&set=pb.100012127725531.-2207520000.1525310851.&type=3&size=1125%2C750\n",
      "2 https://www.facebook.com/photo.php?fbid=446571659090421&set=pb.100012127725531.-2207520000.1525310851.&type=3&size=1125%2C750\n",
      "3 https://www.facebook.com/photo.php?fbid=446571649090422&set=pb.100012127725531.-2207520000.1525310851.&type=3&size=1125%2C750\n",
      "4 https://www.facebook.com/photo.php?fbid=446569982423922&set=pb.100012127725531.-2207520000.1525310851.&type=3&size=1125%2C750\n",
      "5 https://www.facebook.com/photo.php?fbid=446569932423927&set=pb.100012127725531.-2207520000.1525310851.&type=3&size=1125%2C750\n",
      "6 https://www.facebook.com/photo.php?fbid=446569922423928&set=pb.100012127725531.-2207520000.1525310851.&type=3&size=1125%2C750\n",
      "7 https://www.facebook.com/photo.php?fbid=446210509126536&set=pb.100012127725531.-2207520000.1525310851.&type=3&size=1050%2C693\n",
      "8 https://www.facebook.com/photo.php?fbid=446210499126537&set=pb.100012127725531.-2207520000.1525310851.&type=3&size=1000%2C606\n",
      "9 https://www.facebook.com/photo.php?fbid=446210455793208&set=pb.100012127725531.-2207520000.1525310851.&type=3&size=1200%2C800\n",
      "10 https://www.facebook.com/photo.php?fbid=446210439126543&set=pb.100012127725531.-2207520000.1525310851.&type=3&size=1200%2C750\n",
      "11 https://www.facebook.com/photo.php?fbid=446210382459882&set=pb.100012127725531.-2207520000.1525310851.&type=3&size=1000%2C657\n",
      "12 https://www.facebook.com/photo.php?fbid=446210372459883&set=pb.100012127725531.-2207520000.1525310851.&type=3&size=1050%2C591\n",
      "13 https://www.facebook.com/photo.php?fbid=446210355793218&set=pb.100012127725531.-2207520000.1525310851.&type=3&size=1050%2C591\n",
      "14 https://www.facebook.com/photo.php?fbid=446210345793219&set=pb.100012127725531.-2207520000.1525310851.&type=3&size=1050%2C657\n",
      "15 https://www.facebook.com/photo.php?fbid=446166185797635&set=pb.100012127725531.-2207520000.1525310851.&type=3&size=1200%2C791\n",
      "16 https://www.facebook.com/photo.php?fbid=446166132464307&set=pb.100012127725531.-2207520000.1525310851.&type=3&size=1200%2C675\n",
      "17 https://www.facebook.com/photo.php?fbid=446166122464308&set=pb.100012127725531.-2207520000.1525310851.&type=3&size=1200%2C750\n",
      "18 https://www.facebook.com/photo.php?fbid=446166112464309&set=pb.100012127725531.-2207520000.1525310851.&type=3&size=1200%2C675\n",
      "19 https://www.facebook.com/photo.php?fbid=443127046101549&set=pb.100012127725531.-2207520000.1525310851.&type=3&size=288%2C163\n",
      "20 https://www.facebook.com/photo.php?fbid=439894299758157&set=pb.100012127725531.-2207520000.1525310851.&type=3&size=960%2C632\n"
     ]
    }
   ],
   "source": [
    "# 根据用户的主页链接，获取当前用户发布图片的链接(初始连接)\n",
    "photos_href_list = fb.get_photos_href_list(\"https://www.facebook.com/qiao.fengchun\")\n",
    "index = 0\n",
    "for photo_href in photos_href_list:\n",
    "    index += 1\n",
    "    print(index, photo_href)"
   ]
  },
  {
   "cell_type": "code",
   "execution_count": 6,
   "metadata": {},
   "outputs": [],
   "source": [
    "# 获取图片信息列表\n",
    "photos_info_list = fb.get_photos_info_list(photos_href_list)"
   ]
  },
  {
   "cell_type": "code",
   "execution_count": 7,
   "metadata": {},
   "outputs": [
    {
     "name": "stdout",
     "output_type": "stream",
     "text": [
      "1 https://scontent-nrt1-1.xx.fbcdn.net/v/t1.0-9/31282821_446571725757081_5113131803946778624_o.jpg?_nc_cat=0&_nc_eui2=v1%3AAeGnfv4VB315ZZxlL74MAwevbY7kWwtRUg2ERrm6ZmT8ZPQNDJRkglbdi3cWWDCgR2XrIi8AG810-uLgKg8keae5lD8qITxF0spfuq_6so1KqQ&oh=b47bfb943e411b44c298aebddc923c22&oe=5B8F5DE3 1524718018   1125 750\n",
      "2 https://scontent-nrt1-1.xx.fbcdn.net/v/t1.0-9/31265469_446571662423754_3175787492557193216_o.jpg?_nc_cat=0&_nc_eui2=v1%3AAeFkBo3UmL_29XfiZK3H5mWSSSkt3VtWYUnx_RqV5OzmBtw3se5TasaXUxaJy_ICTyni3Wv1hA4-0XRU2-Mv2ILpQjZ7HSpU99WNahdr0CS84g&oh=37d8f89a36e10d93ebe0e7ac5f36457a&oe=5B55F307 1524718010   1125 750\n",
      "3 https://scontent-nrt1-1.xx.fbcdn.net/v/t1.0-9/31369708_446571652423755_5169706865516347392_o.jpg?_nc_cat=0&_nc_eui2=v1%3AAeGse0ESKZlA218_zaMKX70Ye6vWQYRd8mUWPALCFIH0aYhC5Nf46uFDQA3vuK0v-m-lYyfb8HUF3v18uCurX73g63vHaXntyWz6sy5No9W4pA&oh=15e1770e095ca61df9b9d415fdb3fcc3&oe=5B54C55E 1524718010   1125 750\n",
      "4 https://scontent-nrt1-1.xx.fbcdn.net/v/t1.0-9/31287211_446569989090588_788366858070786048_o.jpg?_nc_cat=0&_nc_eui2=v1%3AAeHEzgKINtEgUgwsq5NJBEeoC8G-lQWcNUl4FViBGgmdCG-NlWbQlNXlSSSZuN_qaG5i5TVsx09ek0Iti5Szh14-XEI_8dStv3LtffOyvZBEYQ&oh=0af428db636b913477f02c5dd70f336b&oe=5B9313EC 1524717465   1125 750\n",
      "5 https://scontent-nrt1-1.xx.fbcdn.net/v/t1.0-9/31265296_446569935757260_8764712728423038976_o.jpg?_nc_cat=0&_nc_eui2=v1%3AAeFTjAvqU9CjOKe5R5_bE9Z3iw2v4BKtqYVLMP66KF7VPlWeNZvIc8IwaFUjt6VeFik3KEiPQl7KHbAp7htxq4a2jsGiyXRWc22dRn7nlXTC-A&oh=9e144eade5ed271ddfafa195b3aa1575&oe=5B57BD2C 1524717458   1125 750\n",
      "6 https://scontent-nrt1-1.xx.fbcdn.net/v/t1.0-9/31253139_446569929090594_1577318892550750208_o.jpg?_nc_cat=0&_nc_eui2=v1%3AAeH52Jp3qdSIYtePNOP4N6dP8EsyCHX2qRdfiUVvAqTKPuVIcrXsHmN65YCxF5Z3G2ErwaOayG4uGFyWh6Zw74olmZL5JnnsUW7JeAcBSG8Phg&oh=86eca916cc6d7bf2c3740efa1a213c44&oe=5B538EE6 1524717458   1125 750\n",
      "7 https://scontent-nrt1-1.xx.fbcdn.net/v/t1.0-9/31224235_446210512459869_3740708080053125120_o.jpg?_nc_cat=0&_nc_eui2=v1%3AAeFwuIq59XwTdwHsFFqh41Eegg2ybihRLSHilhxzl6clzs0qOxtlbpfdTg7IbtEKxzL2TjAYHmvdWfQAK7qYiUZ-_nTdUUNB8g5OY8B18Uoh0w&oh=34acbd9d7c9d2cc17d15a75b9c26df77&oe=5B5F9EB0 1524639177   1050 693\n",
      "8 https://scontent-nrt1-1.xx.fbcdn.net/v/t1.0-9/31318223_446210505793203_8476921611461591040_o.jpg?_nc_cat=0&_nc_eui2=v1%3AAeGpROiuFBTBQn2-3PIocFeV4AUuDsQpau43Mxk-Bsudk8euJ8ae4wJyySOuy_IJC_BQIYy6LVemEjT6usaLrLAFDfFydPNgAmXCpAhxPoukvA&oh=07368a00000c5b5832b0500be9053fac&oe=5B99B7E3 1524639229   1000 606\n",
      "9 https://scontent-nrt1-1.xx.fbcdn.net/v/t1.0-9/31265296_446210465793207_5817778780072050688_o.jpg?_nc_cat=0&_nc_eui2=v1%3AAeGXgoVHUH9WA6vLODzUCG24cwf6gRNUEE1LT222xf6-nJhqnpYjZ9L5uSaQQxd12Xnh1HmbahnvgZTV3sJTknmwJH9xGnBRP975maPuewONSA&oh=8ed53492dee097bf7b2a0105d13745ac&oe=5B906C0F 1524639229   1200 800\n",
      "10 https://scontent-nrt1-1.xx.fbcdn.net/v/t1.0-9/31229901_446210445793209_4114397413358174208_o.jpg?_nc_cat=0&_nc_eui2=v1%3AAeHR1zRodmxyYF8MqyUgg9P4S526zW95tkaDQeLHCbUwB7gUpuSuX95es2Re4yyGykcUDA5Q0SPW5cxPIx3dIcHWDG_KUYPdTXSmPMAjnxbpJg&oh=8f9a0afabad64a8f58d61c45cf82848d&oe=5B9C615A 1524639229   1200 750\n",
      "11 https://scontent-nrt1-1.xx.fbcdn.net/v/t1.0-9/31230465_446210392459881_4764610068463222784_o.jpg?_nc_cat=0&_nc_eui2=v1%3AAeHhakVK2KK5rWYoex6-71eFyKnBoQFwD-QtLJcS3vrp6jgtqCxkWJhJeq1v9TkqiDw33O0jHXhyTiVmsIorXQdV7lJ_LskzBQc1CY_xzfgR4w&oh=508d3205847367c268012edd2504ef3e&oe=5B5B3C13 1524639229   1000 657\n",
      "12 https://scontent-nrt1-1.xx.fbcdn.net/v/t1.0-9/31230517_446210379126549_5558883309724893184_o.jpg?_nc_cat=0&_nc_eui2=v1%3AAeFchoWSFtj_Xtr6uOl1DP_HSicNd1wALRqbKz2ZgsanNC-VRSU58J6W0ql8U71EbDRQtZmYxk1m0cuIEwvpLDuaoBoxSKYkJi56YMLe6kbFpQ&oh=da8bf639afefe2922466b041538eb062&oe=5B5C1E40 1524639172   1050 591\n",
      "13 https://scontent-nrt1-1.xx.fbcdn.net/v/t1.0-9/31180013_446210359126551_659947662337900544_o.jpg?_nc_cat=0&_nc_eui2=v1%3AAeF11gcs2LJzcva9KI2LNF2JtR4ShKM_sCi7LFc-iPyvpY6vUSiyDwd4tCHzSitYn--MXHRf0Je58HAf5aUTZ93D-tlVQsfvpOKLwpBALFZfOA&oh=d8aaa530aaaabfe557eb39da0f5c63e5&oe=5B8C9BED 1524639171   1050 591\n",
      "14 https://scontent-nrt1-1.xx.fbcdn.net/v/t1.0-9/31239330_446210349126552_2539350262154264576_n.jpg?_nc_cat=0&_nc_eui2=v1%3AAeEntQZM7r5rtPjDfu3PEwU15XPeWnQhQR5oVRDZj8v6sMePDj_0vMSvmJv5IoEcQ1Ogt0H9_WABWgHgvTa6ZbKtZxnC7iqb-YDAht4eyPOx-w&oh=c06ab3b553d85ef91b808e7d75fd64e6&oe=5B5AA58B 1524639171   1050 657\n",
      "15 https://scontent-nrt1-1.xx.fbcdn.net/v/t1.0-9/31237168_446166192464301_6127088834237693952_o.jpg?_nc_cat=0&_nc_eui2=v1%3AAeHI_wUXtdPPNNyiML8JppOnZ72Cn7pPWEgRlBNQd7DnaThBTW0gS4P8UlJ62Yiv5_vpMeQLeDw1RYffB-bjEa19ucQxU83ptIK8v4L0ZeIk6w&oh=1e0f879d896d8e414649ac08c4bc708d&oe=5B9162E4 1524627134   1200 791\n",
      "16 https://scontent-nrt1-1.xx.fbcdn.net/v/t1.0-9/31265640_446166142464306_3428944061963173888_o.jpg?_nc_cat=0&_nc_eui2=v1%3AAeGUsYgIYhYwnEV-KlkMo6TnQeEn6-YrnFYHGJyzD1gazBkHLhj2kjz7ccptJdcFlzwWhvDjoOWDmTsGPye6TnGQT2iexnbeV95ZF1RgLbSxJw&oh=a9aa49dba68540f847ea2ceae26b75b0&oe=5B8B503D 1524627134   1200 675\n",
      "17 https://scontent-nrt1-1.xx.fbcdn.net/v/t1.0-9/31363315_446166125797641_539839997121921024_o.jpg?_nc_cat=0&_nc_eui2=v1%3AAeFy1MU3awQcn4gXv3dqd1mcZRbun-5LnxpfFv1LA609UPH6WeTLQ3XVyUDkNBD1n9aQAvsRZGPyzSYbs4zK_lgRrraC6LT6UZQPE4O0y6ntLA&oh=9268f2734cddf9870a0eda76ac522dcd&oe=5B91D8A0 1524627134   1200 750\n",
      "18 https://scontent-nrt1-1.xx.fbcdn.net/v/t1.0-9/31357571_446166115797642_9194874074147323904_o.jpg?_nc_cat=0&_nc_eui2=v1%3AAeGlGLe3msL6o3hmiFdYtIloGnu-okflyEE77cR_WXDqwrqVm3Z96pWTSEth5WBgNkQRy7ZReYtlAq6JuNaNkFDadmiblSRKq1-nAEaQ0cd1UQ&oh=d5d91e038be78e88c5d243a0701dc647&oe=5B903F20 1524627134   1200 675\n",
      "19 https://scontent-nrt1-1.xx.fbcdn.net/v/t1.0-9/30704408_443127049434882_4689523294120968192_n.jpg?_nc_cat=0&_nc_eui2=v1%3AAeFKs0APQfKs9p30YemMqee-jxcpUkQ0luMT4oNjG4rCOYR7lPaaD-6mSj5VCWHTslZn5bPzJSh7lFNuOkUhdMIHQd6ONMHvJLfg8wz9BSM3dg&oh=0079f25548c9d2e408556f80b58655b8&oe=5B907BCB 1523929098   288 163\n",
      "20 https://scontent-nrt1-1.xx.fbcdn.net/v/t1.0-9/30441634_439894306424823_9215412362943660032_n.jpg?_nc_cat=0&_nc_eui2=v1%3AAeFhO8esuIER1NRwaGM6uhMkMnskBxlvBR3kjZc_AF3X8EJgChRtCezz5rA41HvixaktnnN9Ct4hig7h51dF3TFzyR87a9yz00rhkxYV9u9_fA&oh=c65b59d31608566616c202160245ccb1&oe=5B625676 1523189480   960 632\n"
     ]
    }
   ],
   "source": [
    "index = 0\n",
    "for photo_info in photos_info_list:\n",
    "    index += 1\n",
    "    print(index, photo_info[0], photo_info[1], photo_info[2], photo_info[3], photo_info[4], photo_info[5])"
   ]
  },
  {
   "cell_type": "code",
   "execution_count": 10,
   "metadata": {},
   "outputs": [
    {
     "name": "stdout",
     "output_type": "stream",
     "text": [
      "image 31282821_446571725757081_5113131803946778624_o.jpg is saved successfully.\n",
      "image 31265469_446571662423754_3175787492557193216_o.jpg is saved successfully.\n",
      "image 31369708_446571652423755_5169706865516347392_o.jpg is saved successfully.\n",
      "image 31287211_446569989090588_788366858070786048_o.jpg is saved successfully.\n",
      "image 31265296_446569935757260_8764712728423038976_o.jpg is saved successfully.\n",
      "image 31253139_446569929090594_1577318892550750208_o.jpg is saved successfully.\n"
     ]
    }
   ],
   "source": [
    "homepage_url = \"https://www.facebook.com/qiao.fengchun\"\n",
    "folder_name = \"qiao\"\n",
    "start_date = \"2018-4-26 0:0:0\"\n",
    "end_date = utils.get_time()\n",
    "keyword = \"\"\n",
    "width_left, width_right, height_left, height_right = 0, 5000, 0, 5000\n",
    "fb.download_photos_one(homepage_url=homepage_url, folder_name=folder_name, \n",
    "                       start_date=start_date, end_date=end_date, keyword=keyword,\n",
    "                       width_left=width_left, width_right=width_right, height_left=height_left, height_right=height_right)"
   ]
  },
  {
   "cell_type": "code",
   "execution_count": null,
   "metadata": {},
   "outputs": [],
   "source": []
  }
 ],
 "metadata": {
  "kernelspec": {
   "display_name": "Python 3",
   "language": "python",
   "name": "python3"
  },
  "language_info": {
   "codemirror_mode": {
    "name": "ipython",
    "version": 3
   },
   "file_extension": ".py",
   "mimetype": "text/x-python",
   "name": "python",
   "nbconvert_exporter": "python",
   "pygments_lexer": "ipython3",
   "version": "3.5.3"
  }
 },
 "nbformat": 4,
 "nbformat_minor": 2
}
