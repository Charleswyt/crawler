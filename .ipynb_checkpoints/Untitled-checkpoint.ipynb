{
 "cells": [
  {
   "cell_type": "code",
   "execution_count": 1,
   "metadata": {},
   "outputs": [],
   "source": [
    "import time\n",
    "import utils\n",
    "from random import randint\n",
    "from bs4 import BeautifulSoup\n",
    "from selenium import webdriver"
   ]
  },
  {
   "cell_type": "code",
   "execution_count": 23,
   "metadata": {},
   "outputs": [
    {
     "ename": "NameError",
     "evalue": "name 'self' is not defined",
     "output_type": "error",
     "traceback": [
      "\u001b[1;31m---------------------------------------------------------------------------\u001b[0m",
      "\u001b[1;31mNameError\u001b[0m                                 Traceback (most recent call last)",
      "\u001b[1;32m<ipython-input-23-d4a347c1ab1a>\u001b[0m in \u001b[0;36m<module>\u001b[1;34m()\u001b[0m\n\u001b[0;32m     26\u001b[0m \u001b[1;33m\u001b[0m\u001b[0m\n\u001b[0;32m     27\u001b[0m \u001b[1;31m# get status_code\u001b[0m\u001b[1;33m\u001b[0m\u001b[1;33m\u001b[0m\u001b[0m\n\u001b[1;32m---> 28\u001b[1;33m \u001b[0mcurrent_page_url\u001b[0m \u001b[1;33m=\u001b[0m \u001b[0mself\u001b[0m\u001b[1;33m.\u001b[0m\u001b[0mdriver\u001b[0m\u001b[1;33m.\u001b[0m\u001b[0mcurrent_url\u001b[0m\u001b[1;33m\u001b[0m\u001b[0m\n\u001b[0m\u001b[0;32m     29\u001b[0m \u001b[1;32mif\u001b[0m \u001b[0mcurrent_page_url\u001b[0m \u001b[1;33m!=\u001b[0m \u001b[0mself\u001b[0m\u001b[1;33m.\u001b[0m\u001b[0murl\u001b[0m\u001b[1;33m:\u001b[0m\u001b[1;33m\u001b[0m\u001b[0m\n\u001b[0;32m     30\u001b[0m     \u001b[0mprint\u001b[0m\u001b[1;33m(\u001b[0m\u001b[1;34m\"False\"\u001b[0m\u001b[1;33m)\u001b[0m\u001b[1;33m\u001b[0m\u001b[0m\n",
      "\u001b[1;31mNameError\u001b[0m: name 'self' is not defined"
     ]
    }
   ],
   "source": [
    "url = \"https://www.facebook.com\"\n",
    "user_name = \"2432659496@qq.com\"\n",
    "password = \"qianxuewu\"\n",
    "# options = webdriver.ChromeOptions()\n",
    "# options.set_headless()\n",
    "# options.add_argument(\"--headless\")\n",
    "# driver=webdriver.Chrome(options=options)\n",
    "driver = webdriver.Chrome()\n",
    "driver.get(url)\n",
    "assert \"Facebook\" in driver.title\n",
    "\n",
    "timeout = randint(1, 4)\n",
    "# user_name\n",
    "email_element = driver.find_element_by_id('email')\n",
    "email_element.send_keys(user_name)\n",
    "time.sleep(timeout)\n",
    "\n",
    "# password\n",
    "password_element = driver.find_element_by_id('pass')\n",
    "password_element.send_keys(password)\n",
    "time.sleep(timeout)\n",
    "\n",
    "# click\n",
    "login = driver.find_element_by_id('loginbutton')\n",
    "login.click()\n",
    "\n",
    "# get status_code\n",
    "current_page_url = self.driver.current_url\n",
    "if current_page_url != url:\n",
    "    print(\"False\")\n",
    "else:\n",
    "    print(\"True\")"
   ]
  },
  {
   "cell_type": "code",
   "execution_count": 4,
   "metadata": {},
   "outputs": [],
   "source": [
    "page = driver.page_source\n",
    "soup = BeautifulSoup(page, \"html.parser\")\n",
    "li = soup.find(class_=\"clearfix sideNavItem stat_elem\")\n",
    "_id = li.get(\"data-nav-item-id\")\n",
    "homepage_url = \"https://www.facebook.com/\" + _id\n",
    "driver.get(homepage_url)"
   ]
  },
  {
   "cell_type": "code",
   "execution_count": 5,
   "metadata": {},
   "outputs": [],
   "source": [
    "def url_type_judge(_url):\n",
    "    \"\"\"\n",
    "    facebook的url分为两种：\n",
    "        1. https://www.facebook.com/erlyn.jumawan.7\n",
    "        2. https://www.facebook.com/profile.php?id=100025029671192\n",
    "    两种url的处理方式是不同的，因此需要先对其进行类型判断\n",
    "    :param _url: url\n",
    "    :return: _url_type: 1 or 2 (user_name | ID)\n",
    "    \"\"\"\n",
    "    url_root = \"https://www.facebook.com/\"\n",
    "    url_new = _url.replace(url_root, \"\")\n",
    "    url_cut = url_new.split(\".\")\n",
    "    if url_cut[0] == \"profile\":\n",
    "        _url_type = 2\n",
    "    else:\n",
    "        _url_type = 1\n",
    "\n",
    "    return _url_type"
   ]
  },
  {
   "cell_type": "code",
   "execution_count": 6,
   "metadata": {},
   "outputs": [],
   "source": [
    "def get_jump_url(_main_page_url, _key):\n",
    "    keys = [\"photos\", \"friends\", \"videos\", \"music\", \"books\", \"tv\"]\n",
    "    if _key not in keys:\n",
    "        _url = None\n",
    "    else:\n",
    "        if url_type_judge(_main_page_url) == 1:\n",
    "            _url = url_concatenate(_main_page_url, _key)\n",
    "\n",
    "        elif url_type_judge(_main_page_url) == 2:\n",
    "            bunch = \"&sk=\" + _key\n",
    "            _url = url_concatenate(_main_page_url, bunch)\n",
    "\n",
    "        else:\n",
    "            _url = None\n",
    "\n",
    "    return _url"
   ]
  },
  {
   "cell_type": "code",
   "execution_count": 7,
   "metadata": {},
   "outputs": [],
   "source": [
    "def url_concatenate(base_url, join_url):\n",
    "    \"\"\"\n",
    "    链接字串合并\n",
    "    :param base_url: 主链接\n",
    "    :param join_url: 待合并字串\n",
    "    :return:\n",
    "    \"\"\"\n",
    "    if base_url[-1] == \"/\":\n",
    "        new_url = base_url + join_url\n",
    "    else:\n",
    "        new_url = base_url + \"/\" + join_url\n",
    "\n",
    "    return new_url"
   ]
  },
  {
   "cell_type": "code",
   "execution_count": 8,
   "metadata": {
    "scrolled": false
   },
   "outputs": [
    {
     "name": "stdout",
     "output_type": "stream",
     "text": [
      "https://www.facebook.com/erlyn.jumawan.7\n",
      "https://www.facebook.com/profile.php?id=100025029671192\n",
      "https://www.facebook.com/md.riayd.7140\n",
      "https://www.facebook.com/profile.php?id=100022803730511\n",
      "https://www.facebook.com/tuyetnhu.bui.902\n",
      "https://www.facebook.com/nhanngocnguyen.nguyen\n",
      "https://www.facebook.com/collo.fero\n",
      "https://www.facebook.com/fain.sunar\n",
      "https://www.facebook.com/carito.gonzales.31542\n",
      "https://www.facebook.com/zahed.ahmed.9619\n",
      "https://www.facebook.com/donmasud.khan.9\n",
      "https://www.facebook.com/tachya.santos.94\n",
      "https://www.facebook.com/akash.lakade.3551\n",
      "https://www.facebook.com/mdjumon.mdjumon.315\n",
      "https://www.facebook.com/profile.php?id=100021706361596\n",
      "https://www.facebook.com/md.makh.3\n",
      "https://www.facebook.com/profile.php?id=100021582201117\n",
      "https://www.facebook.com/chahmad.kahloon.7\n",
      "https://www.facebook.com/profile.php?id=100022127991791\n",
      "https://www.facebook.com/sohel.dhali.522\n",
      "https://www.facebook.com/profile.php?id=100024513502434\n",
      "https://www.facebook.com/hajer.rs.3\n",
      "https://www.facebook.com/profile.php?id=100025101336885\n",
      "https://www.facebook.com/jubayer.khar\n",
      "https://www.facebook.com/profile.php?id=100017291017271\n",
      "https://www.facebook.com/san.sameth.3\n",
      "https://www.facebook.com/roblereymark\n",
      "https://www.facebook.com/profile.php?id=100024082658977\n",
      "https://www.facebook.com/anowar.rana.7587\n",
      "https://www.facebook.com/andria.syifa.3\n",
      "https://www.facebook.com/syed.jikrulislam.1\n",
      "https://www.facebook.com/profile.php?id=100024744552643\n",
      "https://www.facebook.com/md.parviz.750\n",
      "https://www.facebook.com/profile.php?id=100024809323483\n",
      "https://www.facebook.com/profile.php?id=100022998261927\n",
      "https://www.facebook.com/profile.php?id=100024348563827\n",
      "https://www.facebook.com/bijoy.bowmik.3\n",
      "https://www.facebook.com/nur.hohain\n",
      "https://www.facebook.com/sk.khaja.3979489\n",
      "https://www.facebook.com/profile.php?id=100013747338582\n",
      "https://www.facebook.com/profile.php?id=100024556752408\n",
      "https://www.facebook.com/profile.php?id=100024630242475\n",
      "https://www.facebook.com/profile.php?id=100004810085317\n",
      "https://www.facebook.com/jee.sila.5\n",
      "https://www.facebook.com/imran.islam.77398143\n",
      "https://www.facebook.com/ngocdeo.phungthi\n",
      "https://www.facebook.com/profile.php?id=100025015730355\n",
      "https://www.facebook.com/profile.php?id=100024536663729\n",
      "https://www.facebook.com/sapana.gautam.7528\n",
      "https://www.facebook.com/profile.php?id=100025080464279\n",
      "https://www.facebook.com/jahangeer.alam.904750\n",
      "https://www.facebook.com/md.suhidulla.92\n",
      "https://www.facebook.com/profile.php?id=100024705887203\n",
      "https://www.facebook.com/md.shabash.5\n",
      "https://www.facebook.com/profile.php?id=100022090727253\n",
      "https://www.facebook.com/musafir.mah.9\n",
      "https://www.facebook.com/profile.php?id=100024900338141\n",
      "https://www.facebook.com/profile.php?id=100023852941971\n",
      "https://www.facebook.com/mdaziz.khan.5832343\n",
      "https://www.facebook.com/vuphuong.duong.123276\n",
      "https://www.facebook.com/profile.php?id=100024555605754\n",
      "https://www.facebook.com/profile.php?id=100023234525574\n",
      "https://www.facebook.com/antnio.ramirez.925\n",
      "https://www.facebook.com/profile.php?id=100013403820779\n",
      "https://www.facebook.com/profile.php?id=100023299952982\n",
      "https://www.facebook.com/vuhai.nguyen.3979\n",
      "https://www.facebook.com/sakaeid.sobis\n",
      "https://www.facebook.com/bipin.magar.79656\n",
      "https://www.facebook.com/shakeel.salamat.31\n",
      "https://www.facebook.com/profile.php?id=100015630848126\n",
      "https://www.facebook.com/profile.php?id=100025140635815\n",
      "https://www.facebook.com/profile.php?id=100014121132564\n",
      "https://www.facebook.com/profile.php?id=100025088770763\n",
      "https://www.facebook.com/nirakar.biswal.18\n",
      "https://www.facebook.com/noy.olga.5\n",
      "https://www.facebook.com/mdnurislam.mdnurislam.3950\n",
      "https://www.facebook.com/akish.akish.925059\n",
      "https://www.facebook.com/profile.php?id=100024770280854\n",
      "https://www.facebook.com/mahmudul.hassion\n",
      "https://www.facebook.com/joselapara.alexade\n",
      "https://www.facebook.com/mdaridhosan.hosan\n",
      "https://www.facebook.com/aarsh.aarsh.9440234\n",
      "https://www.facebook.com/misba.laskar.923\n",
      "https://www.facebook.com/profile.php?id=100018034783946\n",
      "https://www.facebook.com/traingoan.kiet\n",
      "https://www.facebook.com/quays.tits.98\n",
      "https://www.facebook.com/profile.php?id=100024694254019\n",
      "https://www.facebook.com/profile.php?id=100021982218508\n",
      "https://www.facebook.com/profile.php?id=100024727131273\n",
      "https://www.facebook.com/ruman.ahmedpaglurobin\n",
      "https://www.facebook.com/profile.php?id=100013166502026\n",
      "https://www.facebook.com/profile.php?id=100023939827614\n",
      "https://www.facebook.com/mai.ngan.566790\n",
      "https://www.facebook.com/profile.php?id=100024595243587\n",
      "https://www.facebook.com/profile.php?id=100006118427873\n",
      "https://www.facebook.com/profile.php?id=100022813680506\n",
      "https://www.facebook.com/ngoc.lo.940641\n",
      "https://www.facebook.com/profile.php?id=100014271963108\n"
     ]
    }
   ],
   "source": [
    "import re\n",
    "friends_page_url = get_jump_url(homepage_url, \"friends\")\n",
    "driver.get(friends_page_url)\n",
    "page_source = driver.page_source\n",
    "soup = BeautifulSoup(page_source, \"html.parser\")\n",
    "friends_table = soup.find(class_=\"clearfix _1_ca\")\n",
    "content = friends_table.a.text\n",
    "pattern = re.compile(r\"\\d+\\.?\\d*\")\n",
    "friends_number = int(pattern.findall(content)[0])\n",
    "\n",
    "import time\n",
    "import random\n",
    "timeout = random.randint(2,5)\n",
    "for i in range(friends_number // 20):\n",
    "    driver.execute_script('window.scrollTo(0, document.body.scrollHeight);')\n",
    "    time.sleep(timeout)\n",
    "\n",
    "homepage_url_friends = list()\n",
    "count = 1\n",
    "page_source = driver.page_source\n",
    "soup = BeautifulSoup(page_source, \"html.parser\")\n",
    "\n",
    "contents = soup.find_all(class_=\"uiProfileBlockContent\")\n",
    "for content in contents:\n",
    "    homepage_url_friend = content.a.get(\"href\")\n",
    "    if utils.url_type_judge(homepage_url_friend) == 1:\n",
    "        homepage_url_friend = homepage_url_friend.replace(\"?fref=pb&hc_location=friends_tab\", \"\")\n",
    "    if utils.url_type_judge(homepage_url_friend) == 2:\n",
    "        homepage_url_friend = homepage_url_friend.replace(\"&fref=pb&hc_location=friends_tab\", \"\")\n",
    "    print(homepage_url_friend)\n",
    "    homepage_url_friends.append(homepage_url_friend)"
   ]
  },
  {
   "cell_type": "code",
   "execution_count": 9,
   "metadata": {
    "scrolled": true
   },
   "outputs": [
    {
     "name": "stdout",
     "output_type": "stream",
     "text": [
      "https://www.facebook.com/profile.php?id=100025030772822\n",
      "https://www.facebook.com/rwlmetteay\n",
      "https://www.facebook.com/profile.php?id=100015583545779\n",
      "https://www.facebook.com/xiangchaosos\n",
      "https://www.facebook.com/profile.php?id=100016373370796\n",
      "https://www.facebook.com/profile.php?id=100018549887156\n",
      "https://www.facebook.com/profile.php?id=100015767640894\n",
      "https://www.facebook.com/profile.php?id=100012652667158\n",
      "https://www.facebook.com/profile.php?id=100011264404896\n",
      "https://www.facebook.com/xia.chao.56\n",
      "https://www.facebook.com/profile.php?id=100013325323267\n",
      "https://www.facebook.com/profile.php?id=100010166383128\n",
      "https://www.facebook.com/profile.php?id=100012966280984\n",
      "https://www.facebook.com/profile.php?id=100016415492650\n"
     ]
    }
   ],
   "source": [
    "url = \"https://www.facebook.com/search/str/xiachao/keywords_users\"\n",
    "driver.get(url)\n",
    "number = 10\n",
    "times = number // 9 - 1\n",
    "\n",
    "import time\n",
    "import random\n",
    "timeout = random.randint(2,5)\n",
    "for i in range(times):\n",
    "    driver.execute_script('window.scrollTo(0, document.body.scrollHeight);')\n",
    "    time.sleep(timeout)\n",
    "\n",
    "users_link = list()\n",
    "page = driver.page_source\n",
    "soup = BeautifulSoup(page, \"html.parser\")\n",
    "users = soup.find_all(class_=\"_32mo\")\n",
    "for user in users:\n",
    "    user_link = user.get(\"href\")\n",
    "    if url_type_judge(user_link) == 1:\n",
    "        user_link = user_link.replace(\"?ref=br_rs\", \"\")\n",
    "    if url_type_judge(user_link) == 2:\n",
    "        user_link = user_link.replace(\"&ref=br_rs\", \"\")\n",
    "    print(user_link)\n",
    "    users_link.append(user_link)"
   ]
  },
  {
   "cell_type": "code",
   "execution_count": 11,
   "metadata": {},
   "outputs": [
    {
     "name": "stdout",
     "output_type": "stream",
     "text": [
      "通知\n",
      "通知\n",
      "通知\n",
      "通知\n",
      "通知\n",
      "通知\n",
      "通知\n",
      "Taylor Makenzie 的更多信息\n"
     ]
    }
   ],
   "source": [
    "# url = \"https://www.facebook.com/profile.php?id=100025148614740&sk=photos\"\n",
    "url = \"https://www.facebook.com/taylor.makenzie.79/photos\"\n",
    "driver.get(url)\n",
    "page = driver.page_source\n",
    "soup = BeautifulSoup(page, \"html.parser\")\n",
    "bottem = soup.find_all(class_=\"uiHeaderTitle\")\n",
    "\n",
    "import time\n",
    "import random\n",
    "timeout = random.randint(2,5)\n",
    "while \"更多信息\" not in bottem[-1].string or \"More about\" not in bottem[-1].string:\n",
    "    driver.execute_script(\"window.scrollTo(0, document.body.scrollHeight);\")\n",
    "    time.sleep(timeout)\n",
    "    \n",
    "    page = driver.page_source\n",
    "    soup = BeautifulSoup(page, \"html.parser\")\n",
    "    bottem = soup.find_all(class_=\"uiHeaderTitle\")\n",
    "    print(bottem[-1].string)\n",
    "    if \"更多信息\" in bottem[-1].string or \"More about\" in bottem[-1].string:\n",
    "        break"
   ]
  },
  {
   "cell_type": "code",
   "execution_count": 13,
   "metadata": {
    "scrolled": true
   },
   "outputs": [
    {
     "name": "stdout",
     "output_type": "stream",
     "text": [
      "link: https://scontent-nrt1-1.xx.fbcdn.net/v/t1.0-9/29790693_110531536461800_8350038227599897795_n.jpg?_nc_cat=0&oh=fc7a08ea00a8a5c08e9f435f1bf08a55&oe=5B292D2E\n",
      "date: 1522391519\n",
      "text: []\n",
      "location: []\n"
     ]
    }
   ],
   "source": [
    "url = \"https://www.facebook.com/photo.php?fbid=110531536461800&set=pb.100025148614740.-2207520000.1522845380.&type=3&theater\"\n",
    "driver.get(url)\n",
    "page = driver.page_source\n",
    "soup = BeautifulSoup(page, \"html.parser\")\n",
    "spotlight = soup.find(class_=\"spotlight\")\n",
    "link = spotlight.get(\"src\")\n",
    "\n",
    "publish_time = soup.find(\"span\", {\"id\": \"fbPhotoSnowliftTimestamp\"})\n",
    "date = publish_time.a.abbr.get(\"data-utime\")\n",
    "location_object = soup.find(class_=\"fbPhotosImplicitLocLink\")\n",
    "if location_object is not None:\n",
    "    location = location_object.text\n",
    "else:\n",
    "    location = []\n",
    "\n",
    "text_object = soup.find(\"span\", {\"class\": \"hasCaption\"})\n",
    "if text_object is not None:\n",
    "    text = text_object.text\n",
    "else:\n",
    "    text = []\n",
    "print(\"link:\", link)\n",
    "print(\"date:\", date)\n",
    "print(\"text:\", text)\n",
    "print(\"location:\", location)\n",
    "\n",
    "import shutil\n",
    "import requests\n",
    "response = requests.get(link, stream = True)\n",
    "with open(\"test.jpg\", \"wb\") as file:\n",
    "#     file.write(response.raw)\n",
    "    shutil.copyfileobj(response.raw, file)"
   ]
  },
  {
   "cell_type": "code",
   "execution_count": 14,
   "metadata": {},
   "outputs": [
    {
     "name": "stdout",
     "output_type": "stream",
     "text": [
      "29683314_110531449795142_3054763241779463875_n\n"
     ]
    }
   ],
   "source": [
    "url = \"https://scontent-nrt1-1.xx.fbcdn.net/v/t1.0-9/29683314_110531449795142_3054763241779463875_n.jpg?_nc_cat=0&oh=df15ea09f14c6905945250c8e7b67aa3&oe=5B6D3EF2\"\n",
    "print(((url.split(\"/\")[-1]).split(\"?\")[0]).split(\".\")[0])"
   ]
  },
  {
   "cell_type": "code",
   "execution_count": 18,
   "metadata": {},
   "outputs": [],
   "source": [
    "url = \"https://www.facebook.com/profile.php?id=100025148614740\"\n",
    "# driver.get(url)\n",
    "post_element = driver.find_element_by_class_name(\"_3jk\")\n",
    "post_element.click()"
   ]
  },
  {
   "cell_type": "code",
   "execution_count": 30,
   "metadata": {},
   "outputs": [
    {
     "ename": "AttributeError",
     "evalue": "'Options' object has no attribute 'set_head'",
     "output_type": "error",
     "traceback": [
      "\u001b[1;31m---------------------------------------------------------------------------\u001b[0m",
      "\u001b[1;31mAttributeError\u001b[0m                            Traceback (most recent call last)",
      "\u001b[1;32m<ipython-input-30-11e4715e5a67>\u001b[0m in \u001b[0;36m<module>\u001b[1;34m()\u001b[0m\n\u001b[0;32m      1\u001b[0m \u001b[0moptions\u001b[0m\u001b[1;33m=\u001b[0m\u001b[0mwebdriver\u001b[0m\u001b[1;33m.\u001b[0m\u001b[0mChromeOptions\u001b[0m\u001b[1;33m(\u001b[0m\u001b[1;33m)\u001b[0m\u001b[1;33m\u001b[0m\u001b[0m\n\u001b[0;32m      2\u001b[0m \u001b[1;31m# options.set_headless()\u001b[0m\u001b[1;33m\u001b[0m\u001b[1;33m\u001b[0m\u001b[0m\n\u001b[1;32m----> 3\u001b[1;33m \u001b[0moptions\u001b[0m\u001b[1;33m.\u001b[0m\u001b[0mset_head\u001b[0m\u001b[1;33m(\u001b[0m\u001b[1;33m)\u001b[0m\u001b[1;33m\u001b[0m\u001b[0m\n\u001b[0m\u001b[0;32m      4\u001b[0m \u001b[0moptions\u001b[0m\u001b[1;33m.\u001b[0m\u001b[0madd_argument\u001b[0m\u001b[1;33m(\u001b[0m\u001b[1;34m\"--disable-gpu\"\u001b[0m\u001b[1;33m)\u001b[0m\u001b[1;33m\u001b[0m\u001b[0m\n\u001b[0;32m      5\u001b[0m \u001b[0mdriver\u001b[0m\u001b[1;33m=\u001b[0m\u001b[0mwebdriver\u001b[0m\u001b[1;33m.\u001b[0m\u001b[0mChrome\u001b[0m\u001b[1;33m(\u001b[0m\u001b[0moptions\u001b[0m\u001b[1;33m=\u001b[0m\u001b[0moptions\u001b[0m\u001b[1;33m)\u001b[0m\u001b[1;33m\u001b[0m\u001b[0m\n",
      "\u001b[1;31mAttributeError\u001b[0m: 'Options' object has no attribute 'set_head'"
     ]
    }
   ],
   "source": [
    "options=webdriver.ChromeOptions()\n",
    "options.set_headless()\n",
    "options.add_argument(\"--disable-gpu\")\n",
    "driver=webdriver.Chrome(options=options)\n",
    "driver.get(\"http://www.baidu.com\")\n",
    "print(\"headless\")\n",
    "options.add_argument(\"--head\")\n",
    "driver=webdriver.Chrome(options=options)\n",
    "driver.get(\"http://www.baidu.com\")\n",
    "print(\"head\")"
   ]
  },
  {
   "cell_type": "code",
   "execution_count": null,
   "metadata": {},
   "outputs": [],
   "source": []
  },
  {
   "cell_type": "code",
   "execution_count": null,
   "metadata": {},
   "outputs": [],
   "source": []
  }
 ],
 "metadata": {
  "kernelspec": {
   "display_name": "Python 3",
   "language": "python",
   "name": "python3"
  },
  "language_info": {
   "codemirror_mode": {
    "name": "ipython",
    "version": 3
   },
   "file_extension": ".py",
   "mimetype": "text/x-python",
   "name": "python",
   "nbconvert_exporter": "python",
   "pygments_lexer": "ipython3",
   "version": "3.5.3"
  }
 },
 "nbformat": 4,
 "nbformat_minor": 2
}
