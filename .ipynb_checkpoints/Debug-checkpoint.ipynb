{
 "cells": [
  {
   "cell_type": "code",
   "execution_count": 1,
   "metadata": {},
   "outputs": [],
   "source": [
    "# 代码导入\n",
    "from utils import *\n",
    "from facebook import *"
   ]
  },
  {
   "cell_type": "code",
   "execution_count": 2,
   "metadata": {},
   "outputs": [],
   "source": [
    "# 当前登录账户信息\n",
    "user_name_for_upload = \"qiao3014659@gmail.com\"\n",
    "password_for_upload = \"qiao13593537918\""
   ]
  },
  {
   "cell_type": "code",
   "execution_count": 3,
   "metadata": {},
   "outputs": [],
   "source": [
    "# Facebook类初始化\n",
    "fb = Facebook(user_name_for_upload, password_for_upload)"
   ]
  },
  {
   "cell_type": "code",
   "execution_count": 4,
   "metadata": {},
   "outputs": [],
   "source": [
    "# 账户登录\n",
    "fb.sign_in()"
   ]
  },
  {
   "cell_type": "code",
   "execution_count": 5,
   "metadata": {},
   "outputs": [],
   "source": [
    "# 状态发布\n",
    "fb.make_post()"
   ]
  },
  {
   "cell_type": "code",
   "execution_count": 7,
   "metadata": {},
   "outputs": [
    {
     "name": "stdout",
     "output_type": "stream",
     "text": [
      "user_name:  Qiao Fengchun\n",
      "user_id:  100012127725531\n",
      "homepage_url:  https://www.facebook.com/qiao.fengchun\n"
     ]
    }
   ],
   "source": [
    " # 获取当前登录账户信息 (user_name, user_id, homepage_url)\n",
    "fb.get_myself_info()\n",
    "\n",
    "# 信息打印\n",
    "print(\"user name:\", fb.user_name)\n",
    "print(\"user id:\", fb.user_id)\n",
    "print(\"homepage url:\", fb.homepage_url)"
   ]
  },
  {
   "cell_type": "code",
   "execution_count": 8,
   "metadata": {},
   "outputs": [],
   "source": [
    "# 进入当前登录账户的主页\n",
    "fb.enter_homepage_self()"
   ]
  },
  {
   "cell_type": "code",
   "execution_count": 12,
   "metadata": {},
   "outputs": [
    {
     "name": "stdout",
     "output_type": "stream",
     "text": [
      "user_id:  100012127725531\n"
     ]
    }
   ],
   "source": [
    "# 输入用户主页，获取用户ID\n",
    "user_id = fb.get_user_id(\"https://www.facebook.com/qiao.fengchun\")\n",
    "print(\"user id:\", user_id)"
   ]
  },
  {
   "cell_type": "code",
   "execution_count": 13,
   "metadata": {},
   "outputs": [
    {
     "name": "stdout",
     "output_type": "stream",
     "text": [
      "friends number: 2\n"
     ]
    }
   ],
   "source": [
    "# 获取好友数量\n",
    "fb.get_friends_number()\n",
    "print(\"friends number:\", fb.friends_number)"
   ]
  },
  {
   "cell_type": "code",
   "execution_count": 21,
   "metadata": {},
   "outputs": [
    {
     "name": "stdout",
     "output_type": "stream",
     "text": [
      "The info of friends list:\n",
      "0, 周明星, 100022483429126, https://www.facebook.com/profile.php?id=100022483429126\n",
      "1, Yijie Dong, 100008203770893, https://www.facebook.com/profile.php?id=100008203770893\n"
     ]
    }
   ],
   "source": [
    "# 获取当前登录账户的好友列表\n",
    "friends_number = 3\n",
    "fb.get_friends_list(friends_number=friends_number)\n",
    "\n",
    "index = 0\n",
    "print(\"The info of friends list:\")\n",
    "for user_info in fb.user_info_friends:\n",
    "    print(\"%d, %s, %s, %s\" % (index, user_info[0], user_info[1], user_info[2]))\n",
    "    index += 1"
   ]
  },
  {
   "cell_type": "code",
   "execution_count": 53,
   "metadata": {},
   "outputs": [
    {
     "name": "stdout",
     "output_type": "stream",
     "text": [
      "user_search_class_name: _1yt\n",
      "user_name_class_name: _32mo\n"
     ]
    }
   ],
   "source": [
    "# 获取用于用户信息获取的class name\n",
    "fb.get_class_name_for_search()\n",
    "print(\"user_search_class_name:\", fb.user_search_class_name)\n",
    "print(\"user_name_class_name:\", fb.user_name_class_name)"
   ]
  },
  {
   "cell_type": "code",
   "execution_count": 55,
   "metadata": {},
   "outputs": [
    {
     "ename": "TypeError",
     "evalue": "the JSON object must be str, not 'NoneType'",
     "output_type": "error",
     "traceback": [
      "\u001b[1;31m---------------------------------------------------------------------------\u001b[0m",
      "\u001b[1;31mTypeError\u001b[0m                                 Traceback (most recent call last)",
      "\u001b[1;32m<ipython-input-55-5e105000def1>\u001b[0m in \u001b[0;36m<module>\u001b[1;34m()\u001b[0m\n\u001b[0;32m      2\u001b[0m \u001b[0muser_name\u001b[0m \u001b[1;33m=\u001b[0m \u001b[1;34m\"qiaofengchun\"\u001b[0m\u001b[1;33m\u001b[0m\u001b[0m\n\u001b[0;32m      3\u001b[0m \u001b[0muser_number\u001b[0m \u001b[1;33m=\u001b[0m \u001b[1;36m1\u001b[0m\u001b[1;33m\u001b[0m\u001b[0m\n\u001b[1;32m----> 4\u001b[1;33m \u001b[0muser_info_list\u001b[0m \u001b[1;33m=\u001b[0m \u001b[0mfb\u001b[0m\u001b[1;33m.\u001b[0m\u001b[0msearch_users\u001b[0m\u001b[1;33m(\u001b[0m\u001b[0muser_name\u001b[0m\u001b[1;33m=\u001b[0m\u001b[0muser_name\u001b[0m\u001b[1;33m,\u001b[0m \u001b[0muser_number\u001b[0m\u001b[1;33m=\u001b[0m\u001b[0muser_number\u001b[0m\u001b[1;33m)\u001b[0m\u001b[1;33m\u001b[0m\u001b[0m\n\u001b[0m\u001b[0;32m      5\u001b[0m \u001b[1;33m\u001b[0m\u001b[0m\n\u001b[0;32m      6\u001b[0m \u001b[1;31m# 打印用户信息 (user_name, user_id, location, homepage_url)\u001b[0m\u001b[1;33m\u001b[0m\u001b[1;33m\u001b[0m\u001b[0m\n",
      "\u001b[1;32m~\\Desktop\\crawler\\facebook.py\u001b[0m in \u001b[0;36msearch_users\u001b[1;34m(self, user_name, user_number)\u001b[0m\n\u001b[0;32m    502\u001b[0m             \u001b[1;32mif\u001b[0m \u001b[0muser_number\u001b[0m \u001b[1;32mis\u001b[0m \u001b[1;32mNone\u001b[0m \u001b[1;32mor\u001b[0m \u001b[0muser_number\u001b[0m \u001b[1;33m>\u001b[0m \u001b[0mtotal_user_number\u001b[0m\u001b[1;33m:\u001b[0m\u001b[1;33m\u001b[0m\u001b[0m\n\u001b[0;32m    503\u001b[0m                 \u001b[1;32mfor\u001b[0m \u001b[0mitem\u001b[0m \u001b[1;32min\u001b[0m \u001b[0mitems\u001b[0m\u001b[1;33m:\u001b[0m\u001b[1;33m\u001b[0m\u001b[0m\n\u001b[1;32m--> 504\u001b[1;33m                     \u001b[0muser_info_search\u001b[0m\u001b[1;33m.\u001b[0m\u001b[0mappend\u001b[0m\u001b[1;33m(\u001b[0m\u001b[0mself\u001b[0m\u001b[1;33m.\u001b[0m\u001b[0mget_user_info\u001b[0m\u001b[1;33m(\u001b[0m\u001b[0mitem\u001b[0m\u001b[1;33m)\u001b[0m\u001b[1;33m)\u001b[0m\u001b[1;33m\u001b[0m\u001b[0m\n\u001b[0m\u001b[0;32m    505\u001b[0m             \u001b[1;32melse\u001b[0m\u001b[1;33m:\u001b[0m\u001b[1;33m\u001b[0m\u001b[0m\n\u001b[0;32m    506\u001b[0m                 \u001b[0mindex\u001b[0m \u001b[1;33m=\u001b[0m \u001b[1;36m0\u001b[0m\u001b[1;33m\u001b[0m\u001b[0m\n",
      "\u001b[1;32m~\\Desktop\\crawler\\facebook.py\u001b[0m in \u001b[0;36mget_user_info\u001b[1;34m(self, item)\u001b[0m\n\u001b[0;32m    427\u001b[0m         \"\"\"\n\u001b[0;32m    428\u001b[0m         \u001b[0mdata_be_str\u001b[0m \u001b[1;33m=\u001b[0m \u001b[0mitem\u001b[0m\u001b[1;33m.\u001b[0m\u001b[0mdiv\u001b[0m\u001b[1;33m.\u001b[0m\u001b[0mget\u001b[0m\u001b[1;33m(\u001b[0m\u001b[1;34m\"data-bt\"\u001b[0m\u001b[1;33m)\u001b[0m\u001b[1;33m\u001b[0m\u001b[0m\n\u001b[1;32m--> 429\u001b[1;33m         \u001b[0muser_id\u001b[0m \u001b[1;33m=\u001b[0m \u001b[0mstr\u001b[0m\u001b[1;33m(\u001b[0m\u001b[0mutils\u001b[0m\u001b[1;33m.\u001b[0m\u001b[0mstr2dict\u001b[0m\u001b[1;33m(\u001b[0m\u001b[0mdata_be_str\u001b[0m\u001b[1;33m)\u001b[0m\u001b[1;33m[\u001b[0m\u001b[1;34m\"id\"\u001b[0m\u001b[1;33m]\u001b[0m\u001b[1;33m)\u001b[0m\u001b[1;33m\u001b[0m\u001b[0m\n\u001b[0m\u001b[0;32m    430\u001b[0m \u001b[1;33m\u001b[0m\u001b[0m\n\u001b[0;32m    431\u001b[0m         \u001b[1;31m# 获取user homepage url\u001b[0m\u001b[1;33m\u001b[0m\u001b[1;33m\u001b[0m\u001b[0m\n",
      "\u001b[1;32m~\\Desktop\\crawler\\utils.py\u001b[0m in \u001b[0;36mstr2dict\u001b[1;34m(string)\u001b[0m\n\u001b[0;32m    321\u001b[0m         \u001b[0mresult_dict\u001b[0m\u001b[1;33m:\u001b[0m \u001b[0m转换后的字典变量\u001b[0m\u001b[1;33m\u001b[0m\u001b[0m\n\u001b[0;32m    322\u001b[0m     \"\"\"\n\u001b[1;32m--> 323\u001b[1;33m     \u001b[0mresult_dict\u001b[0m \u001b[1;33m=\u001b[0m \u001b[0mjson\u001b[0m\u001b[1;33m.\u001b[0m\u001b[0mloads\u001b[0m\u001b[1;33m(\u001b[0m\u001b[0mstring\u001b[0m\u001b[1;33m,\u001b[0m \u001b[0mencoding\u001b[0m\u001b[1;33m=\u001b[0m\u001b[1;34m'UTF-8'\u001b[0m\u001b[1;33m)\u001b[0m\u001b[1;33m\u001b[0m\u001b[0m\n\u001b[0m\u001b[0;32m    324\u001b[0m \u001b[1;33m\u001b[0m\u001b[0m\n\u001b[0;32m    325\u001b[0m     \u001b[1;32mreturn\u001b[0m \u001b[0mresult_dict\u001b[0m\u001b[1;33m\u001b[0m\u001b[0m\n",
      "\u001b[1;32mc:\\program files\\python35\\lib\\json\\__init__.py\u001b[0m in \u001b[0;36mloads\u001b[1;34m(s, encoding, cls, object_hook, parse_float, parse_int, parse_constant, object_pairs_hook, **kw)\u001b[0m\n\u001b[0;32m    310\u001b[0m     \u001b[1;32mif\u001b[0m \u001b[1;32mnot\u001b[0m \u001b[0misinstance\u001b[0m\u001b[1;33m(\u001b[0m\u001b[0ms\u001b[0m\u001b[1;33m,\u001b[0m \u001b[0mstr\u001b[0m\u001b[1;33m)\u001b[0m\u001b[1;33m:\u001b[0m\u001b[1;33m\u001b[0m\u001b[0m\n\u001b[0;32m    311\u001b[0m         raise TypeError('the JSON object must be str, not {!r}'.format(\n\u001b[1;32m--> 312\u001b[1;33m                             s.__class__.__name__))\n\u001b[0m\u001b[0;32m    313\u001b[0m     \u001b[1;32mif\u001b[0m \u001b[0ms\u001b[0m\u001b[1;33m.\u001b[0m\u001b[0mstartswith\u001b[0m\u001b[1;33m(\u001b[0m\u001b[1;34mu'\\ufeff'\u001b[0m\u001b[1;33m)\u001b[0m\u001b[1;33m:\u001b[0m\u001b[1;33m\u001b[0m\u001b[0m\n\u001b[0;32m    314\u001b[0m         raise JSONDecodeError(\"Unexpected UTF-8 BOM (decode using utf-8-sig)\",\n",
      "\u001b[1;31mTypeError\u001b[0m: the JSON object must be str, not 'NoneType'"
     ]
    }
   ],
   "source": [
    "# 用户检索\n",
    "user_name = \"qiaofengchun\"\n",
    "user_number = 1\n",
    "user_info_list = fb.search_users(user_name=user_name, user_number=user_number)\n",
    "\n",
    "# 打印用户信息 (user_name, user_id, location, homepage_url)\n",
    "index = 0\n",
    "for user_info in user_info_list:\n",
    "    print(index, user_info[0], user_info[1], user_info[2], user_info[3])"
   ]
  },
  {
   "cell_type": "code",
   "execution_count": 54,
   "metadata": {},
   "outputs": [
    {
     "name": "stdout",
     "output_type": "stream",
     "text": [
      "['喬奉純', '100002686100750', 'https://www.facebook.com/afratuzdufeyh', '']\n"
     ]
    }
   ],
   "source": [
    "fb.get_class_name_for_search()\n",
    "page_source = fb.driver.page_source\n",
    "soup = BeautifulSoup(page_source, fb.soup_type)\n",
    "items = soup.find_all(class_=\"_4p2o\")\n",
    "print(fb.get_user_info(items[1]))"
   ]
  },
  {
   "cell_type": "code",
   "execution_count": 75,
   "metadata": {},
   "outputs": [
    {
     "name": "stdout",
     "output_type": "stream",
     "text": [
      "['__class__', '__delattr__', '__dict__', '__dir__', '__doc__', '__eq__', '__format__', '__ge__', '__getattribute__', '__gt__', '__hash__', '__init__', '__le__', '__lt__', '__module__', '__ne__', '__new__', '__reduce__', '__reduce_ex__', '__repr__', '__setattr__', '__sizeof__', '__str__', '__subclasshook__', '__weakref__', '_execute', '_id', '_parent', '_upload', '_w3c', 'clear', 'click', 'find_element', 'find_element_by_class_name', 'find_element_by_css_selector', 'find_element_by_id', 'find_element_by_link_text', 'find_element_by_name', 'find_element_by_partial_link_text', 'find_element_by_tag_name', 'find_element_by_xpath', 'find_elements', 'find_elements_by_class_name', 'find_elements_by_css_selector', 'find_elements_by_id', 'find_elements_by_link_text', 'find_elements_by_name', 'find_elements_by_partial_link_text', 'find_elements_by_tag_name', 'find_elements_by_xpath', 'get_attribute', 'get_property', 'id', 'is_displayed', 'is_enabled', 'is_selected', 'location', 'location_once_scrolled_into_view', 'parent', 'rect', 'screenshot', 'screenshot_as_base64', 'screenshot_as_png', 'send_keys', 'size', 'submit', 'tag_name', 'text', 'value_of_css_property']\n",
      "<div class=\"_1yt\" id=\"BrowseResultsContainer\"><div class=\"_4p2o\"><div class=\"_3u1 _gli _uvb\" data-bt='{\"id\":100012127725531,\"rank\":1,\"abtest_version\":null,\"abtest_params\":{\"abtest_version\":null,\"origin\":\"A\",\"ranker\":null},\"section\":\"main_column\",\"owner_id\":null,\"sub_id\":null,\"browse_location\":null,\"query_data\":[],\"is_headline\":false}' data-ft='{\"tn\":\"-\\\\\"}'><div class=\"_401d\" data-gt='{\"type\":\"xtracking\",\"xt\":\"21.{\\\"module_type\\\":null,\\\"item_type\\\":\\\"result\\\",\\\"display_style\\\":\\\"user_row\\\",\\\"position_in_module\\\":null,\\\"id\\\":\\\"100012127725531\\\",\\\"raw_id\\\":100012127725531,\\\"query\\\":\\\"keywords_users(qiaofengchun)\\\",\\\"session_id\\\":\\\"c6e15779c426dfb0d7333efac584e4d8\\\",\\\"vertical\\\":\\\"content\\\",\\\"result_creation_timestamp\\\":null,\\\"module_result_type\\\":\\\"browse_type_user\\\",\\\"source_module_role\\\":null,\\\"subrequests\\\":[],\\\"unit_id\\\":\\\"browse_rl:523473c4-116d-2d7d-6fa6-88e13f09153c\\\",\\\"unit_id_click_type\\\":\\\"graph_search_results_item_tapped\\\",\\\"unit_id_result_id\\\":\\\"100012127725531\\\"}\"}' data-insertion-position=\"0\" data-vistracking=\"1\" data-xt-vimp='{\"pixel_in_percentage\":70,\"duration_in_ms\":2000,\"subsequent_gap_in_ms\":500,\"log_initial_nonviewable\":true,\"should_batch\":true,\"require_horizontally_onscreen\":false,\"should_log_viewability_duration\":true}' id=\"u_ps_0_3_6\"><div class=\"clearfix\"><a aria-hidden=\"true\" class=\"_2ial _uvc _8o _8s lfloat _ohe\" href=\"https://www.facebook.com/qiao.fengchun?ref=br_rs\" tabindex=\"-1\"><img alt=\"\" class=\"_1glk img\" height=\"72\" src=\"https://scontent-nrt1-1.xx.fbcdn.net/v/t1.0-1/p74x74/30262108_439891946425059_5833125432660066304_n.jpg?_nc_cat=0&amp;oh=66dfeb5178ed7d2d0d9d6ceabf6214e8&amp;oe=5B8DF31C\" width=\"72\"/></a><div class=\"_42ef\"><div class=\"_glj\"><div class=\"clearfix\"><div class=\"_glk rfloat _ohf\"><div class=\"_51xa\" id=\"u_ps_0_3_7\"><div class=\"_6a uiPopover _5tfz\" id=\"u_ps_0_3_8\"><a aria-expanded=\"false\" aria-haspopup=\"true\" class=\"_42ft _4jy0 _55pi _2agf _4o_4 _p _4jy3 _517h _51sy\" href=\"#\" id=\"u_ps_0_3_9\" rel=\"toggle\" role=\"button\" style=\"max-width:200px;\"><span class=\"_-xe _3-8_\"><i class=\"img sp_wjfmCmBScjF sx_81a0cc\"><u>More Options</u></i></span><span class=\"_55pe\"></span><span class=\"_4o_3 _3-99\"><i class=\"img sp_8vM4MpfQUM2 sx_99f430\"></i></span></a></div></div></div><div class=\"_2mch _gll\"><div class=\"_ajw\"><div class=\"_52eh _5bcu\" style=\"-webkit-line-clamp: 2;\"><div><a class=\"_32mo\" data-testid=\"serp_result_link#0@EntRegularPersonalUser\" href=\"https://www.facebook.com/qiao.fengchun?ref=br_rs\"><span>Qiao Fengchun</span></a></div></div></div></div></div><div><div class=\"_glm\"><div class=\"_pac\"></div></div><div class=\"_glo\"><div class=\"_glo\"></div></div></div><div class=\"_glp\"></div><div class=\"_3t0c\"></div></div></div></div><iframe class=\"fbEmuTracking\" frameborder=\"0\" height=\"0\" scrolling=\"no\" src=\"/xti.php?xt=21.%7B%22module_type%22%3Anull%2C%22item_type%22%3A%22result%22%2C%22display_style%22%3A%22user_row%22%2C%22position_in_module%22%3Anull%2C%22id%22%3A%22100012127725531%22%2C%22raw_id%22%3A100012127725531%2C%22query%22%3A%22keywords_users%28qiaofengchun%29%22%2C%22session_id%22%3A%22c6e15779c426dfb0d7333efac584e4d8%22%2C%22vertical%22%3A%22content%22%2C%22result_creation_timestamp%22%3Anull%2C%22module_result_type%22%3A%22browse_type_user%22%2C%22source_module_role%22%3Anull%2C%22subrequests%22%3A%5B%5D%2C%22unit_id%22%3A%22browse_rl%3A523473c4-116d-2d7d-6fa6-88e13f09153c%22%2C%22unit_id_click_type%22%3A%22graph_search_results_item_tapped%22%2C%22unit_id_result_id%22%3A%22100012127725531%22%7D\" width=\"0\"></iframe><iframe aria-hidden=\"true\" class=\"fbEmuTracking\" frameborder=\"0\" height=\"0\" scrolling=\"no\" src=\"/xti.php?xt=21.%7B%22module_type%22%3Anull%2C%22item_type%22%3A%22result%22%2C%22display_style%22%3A%22user_row%22%2C%22position_in_module%22%3Anull%2C%22id%22%3A%22100012127725531%22%2C%22raw_id%22%3A100012127725531%2C%22query%22%3A%22keywords_users(qiaofengchun)%22%2C%22session_id%22%3A%22c6e15779c426dfb0d7333efac584e4d8%22%2C%22vertical%22%3A%22content%22%2C%22result_creation_timestamp%22%3Anull%2C%22module_result_type%22%3A%22browse_type_user%22%2C%22source_module_role%22%3Anull%2C%22subrequests%22%3A[]%2C%22unit_id%22%3A%22browse_rl%3A523473c4-116d-2d7d-6fa6-88e13f09153c%22%2C%22unit_id_click_type%22%3A%22graph_search_results_item_tapped%22%2C%22unit_id_result_id%22%3A%22100012127725531%22%7D&amp;isv=1&amp;cts=1525192630&amp;csp\" width=\"0\"></iframe></div></div></div><div class=\"_4p2o\"><div class=\"_3u1 _gli _uvb\" data-bt='{\"id\":100002686100750,\"rank\":2,\"abtest_version\":null,\"abtest_params\":{\"abtest_version\":null,\"origin\":\"A\",\"ranker\":null},\"section\":\"main_column\",\"owner_id\":null,\"sub_id\":null,\"browse_location\":null,\"query_data\":[],\"is_headline\":false}' data-ft='{\"tn\":\"-\\\\\"}'><div class=\"_401d\" data-gt='{\"type\":\"xtracking\",\"xt\":\"21.{\\\"module_type\\\":null,\\\"item_type\\\":\\\"result\\\",\\\"display_style\\\":\\\"user_row\\\",\\\"position_in_module\\\":null,\\\"id\\\":\\\"100002686100750\\\",\\\"raw_id\\\":100002686100750,\\\"query\\\":\\\"keywords_users(qiaofengchun)\\\",\\\"session_id\\\":\\\"c6e15779c426dfb0d7333efac584e4d8\\\",\\\"vertical\\\":\\\"content\\\",\\\"result_creation_timestamp\\\":null,\\\"module_result_type\\\":\\\"browse_type_user\\\",\\\"source_module_role\\\":null,\\\"subrequests\\\":[],\\\"unit_id\\\":\\\"browse_rl:0ca8eaf8-3abf-58f6-06b9-97b9b6af274f\\\",\\\"unit_id_click_type\\\":\\\"graph_search_results_item_tapped\\\",\\\"unit_id_result_id\\\":\\\"100002686100750\\\"}\"}' data-insertion-position=\"1\" data-vistracking=\"1\" data-xt-vimp='{\"pixel_in_percentage\":70,\"duration_in_ms\":2000,\"subsequent_gap_in_ms\":500,\"log_initial_nonviewable\":true,\"should_batch\":true,\"require_horizontally_onscreen\":false,\"should_log_viewability_duration\":true}' id=\"u_ps_0_3_a\"><div class=\"clearfix\"><a aria-hidden=\"true\" class=\"_2ial _uvc _8o _8s lfloat _ohe\" href=\"https://www.facebook.com/afratuzdufeyh?ref=br_rs\" tabindex=\"-1\"><img alt=\"\" class=\"_1glk img\" height=\"72\" src=\"https://scontent-nrt1-1.xx.fbcdn.net/v/t1.0-1/c20.6.74.74/p86x86/283120_108691909230345_4192083_n.jpg?_nc_cat=0&amp;oh=f5157300baa87e26577cc858139d100a&amp;oe=5B5ED41F\" width=\"72\"/></a><div class=\"_42ef\"><div class=\"_glj\"><div class=\"clearfix\"><div class=\"_glk rfloat _ohf\"><div class=\"_51xa\" id=\"u_ps_0_3_b\"><div class=\"FriendButton\" data-bt='{\"ct\":\"add_friend\"}' id=\"u_ps_0_3_c\"><button aria-label=\"Add Friend\" class=\"_42ft _4jy0 FriendRequestAdd addButton _4jy3 _517h _51sy\" type=\"button\"><i class=\"_3-8_ img sp_jZwlhadI_KM sx_0276d2\"></i>Add Friend</button><button class=\"_42ft _4jy0 FriendRequestOutgoing enableFriendListFlyout outgoingButton enableFriendListFlyout hidden_elem _4jy3 _517h _51sy\" data-cancelref=\"unknown\" data-cansuggestfriends=\"true\" data-flloc=\"browse\" data-profileid=\"100002686100750\" type=\"button\"><i class=\"_3-8_ img sp_jZwlhadI_KM sx_0276d2\"></i>Friend Request Sent</button></div><div class=\"_6a uiPopover _5tfz\" id=\"u_ps_0_3_d\"><a aria-expanded=\"false\" aria-haspopup=\"true\" class=\"_42ft _4jy0 _55pi _2agf _4o_4 _p _4jy3 _517h _51sy\" href=\"#\" id=\"u_ps_0_3_e\" rel=\"toggle\" role=\"button\" style=\"max-width:200px;\"><span class=\"_-xe _3-8_\"><i class=\"img sp_wjfmCmBScjF sx_81a0cc\"><u>More Options</u></i></span><span class=\"_55pe\"></span><span class=\"_4o_3 _3-99\"><i class=\"img sp_8vM4MpfQUM2 sx_99f430\"></i></span></a></div></div></div><div class=\"_2mch _gll\"><div class=\"_ajw\"><div class=\"_52eh _5bcu\" style=\"-webkit-line-clamp: 2;\"><div><a class=\"_32mo\" data-testid=\"serp_result_link#1@EntRegularPersonalUser\" href=\"https://www.facebook.com/afratuzdufeyh?ref=br_rs\"><span>喬奉純</span></a></div></div></div></div></div><div><div class=\"_glm\"><div class=\"_pac\"></div></div><div class=\"_glo\"><div class=\"_glo\"></div></div></div><div class=\"_glp\"></div><div class=\"_3t0c\"></div></div></div></div><iframe class=\"fbEmuTracking\" frameborder=\"0\" height=\"0\" scrolling=\"no\" src=\"/xti.php?xt=21.%7B%22module_type%22%3Anull%2C%22item_type%22%3A%22result%22%2C%22display_style%22%3A%22user_row%22%2C%22position_in_module%22%3Anull%2C%22id%22%3A%22100002686100750%22%2C%22raw_id%22%3A100002686100750%2C%22query%22%3A%22keywords_users%28qiaofengchun%29%22%2C%22session_id%22%3A%22c6e15779c426dfb0d7333efac584e4d8%22%2C%22vertical%22%3A%22content%22%2C%22result_creation_timestamp%22%3Anull%2C%22module_result_type%22%3A%22browse_type_user%22%2C%22source_module_role%22%3Anull%2C%22subrequests%22%3A%5B%5D%2C%22unit_id%22%3A%22browse_rl%3A0ca8eaf8-3abf-58f6-06b9-97b9b6af274f%22%2C%22unit_id_click_type%22%3A%22graph_search_results_item_tapped%22%2C%22unit_id_result_id%22%3A%22100002686100750%22%7D\" width=\"0\"></iframe><iframe aria-hidden=\"true\" class=\"fbEmuTracking\" frameborder=\"0\" height=\"0\" scrolling=\"no\" src=\"/xti.php?xt=21.%7B%22module_type%22%3Anull%2C%22item_type%22%3A%22result%22%2C%22display_style%22%3A%22user_row%22%2C%22position_in_module%22%3Anull%2C%22id%22%3A%22100002686100750%22%2C%22raw_id%22%3A100002686100750%2C%22query%22%3A%22keywords_users(qiaofengchun)%22%2C%22session_id%22%3A%22c6e15779c426dfb0d7333efac584e4d8%22%2C%22vertical%22%3A%22content%22%2C%22result_creation_timestamp%22%3Anull%2C%22module_result_type%22%3A%22browse_type_user%22%2C%22source_module_role%22%3Anull%2C%22subrequests%22%3A[]%2C%22unit_id%22%3A%22browse_rl%3A0ca8eaf8-3abf-58f6-06b9-97b9b6af274f%22%2C%22unit_id_click_type%22%3A%22graph_search_results_item_tapped%22%2C%22unit_id_result_id%22%3A%22100002686100750%22%7D&amp;isv=1&amp;cts=1525192630&amp;csp\" width=\"0\"></iframe></div></div></div></div>\n"
     ]
    },
    {
     "ename": "AttributeError",
     "evalue": "ResultSet object has no attribute 'find_all'. You're probably treating a list of items like a single item. Did you call find_all() when you meant to call find()?",
     "output_type": "error",
     "traceback": [
      "\u001b[1;31m---------------------------------------------------------------------------\u001b[0m",
      "\u001b[1;31mAttributeError\u001b[0m                            Traceback (most recent call last)",
      "\u001b[1;32m<ipython-input-75-690995c404a7>\u001b[0m in \u001b[0;36m<module>\u001b[1;34m()\u001b[0m\n\u001b[0;32m      9\u001b[0m \u001b[1;33m\u001b[0m\u001b[0m\n\u001b[0;32m     10\u001b[0m \u001b[0muser_block\u001b[0m \u001b[1;33m=\u001b[0m \u001b[0msoup\u001b[0m\u001b[1;33m.\u001b[0m\u001b[0mfind_all\u001b[0m\u001b[1;33m(\u001b[0m\u001b[0mclass_\u001b[0m\u001b[1;33m=\u001b[0m\u001b[0muser_search_class_name\u001b[0m\u001b[1;33m)\u001b[0m\u001b[1;33m\u001b[0m\u001b[0m\n\u001b[1;32m---> 11\u001b[1;33m \u001b[0muser_block_class_name\u001b[0m \u001b[1;33m=\u001b[0m \u001b[0muser_block\u001b[0m\u001b[1;33m.\u001b[0m\u001b[0mfind_all\u001b[0m\u001b[1;33m(\u001b[0m\u001b[1;34m\"div\"\u001b[0m\u001b[1;33m)\u001b[0m\u001b[1;33m\u001b[0m\u001b[0m\n\u001b[0m\u001b[0;32m     12\u001b[0m \u001b[0mprint\u001b[0m\u001b[1;33m(\u001b[0m\u001b[0muser_block_class_name\u001b[0m\u001b[1;33m)\u001b[0m\u001b[1;33m\u001b[0m\u001b[0m\n\u001b[0;32m     13\u001b[0m \u001b[1;33m\u001b[0m\u001b[0m\n",
      "\u001b[1;32mc:\\program files\\python35\\lib\\site-packages\\bs4\\element.py\u001b[0m in \u001b[0;36m__getattr__\u001b[1;34m(self, key)\u001b[0m\n\u001b[0;32m   1805\u001b[0m     \u001b[1;32mdef\u001b[0m \u001b[0m__getattr__\u001b[0m\u001b[1;33m(\u001b[0m\u001b[0mself\u001b[0m\u001b[1;33m,\u001b[0m \u001b[0mkey\u001b[0m\u001b[1;33m)\u001b[0m\u001b[1;33m:\u001b[0m\u001b[1;33m\u001b[0m\u001b[0m\n\u001b[0;32m   1806\u001b[0m         raise AttributeError(\n\u001b[1;32m-> 1807\u001b[1;33m             \u001b[1;34m\"ResultSet object has no attribute '%s'. You're probably treating a list of items like a single item. Did you call find_all() when you meant to call find()?\"\u001b[0m \u001b[1;33m%\u001b[0m \u001b[0mkey\u001b[0m\u001b[1;33m\u001b[0m\u001b[0m\n\u001b[0m\u001b[0;32m   1808\u001b[0m         )\n",
      "\u001b[1;31mAttributeError\u001b[0m: ResultSet object has no attribute 'find_all'. You're probably treating a list of items like a single item. Did you call find_all() when you meant to call find()?"
     ]
    }
   ],
   "source": [
    "element = fb.driver.find_element_by_id(fb.browse_results_container_id)\n",
    "user_search_class_name = element.get_attribute(\"class\")\n",
    "# print(dir(element))\n",
    "\n",
    "page_source = fb.driver.page_source\n",
    "soup = BeautifulSoup(page_source, fb.soup_type)\n",
    "items = soup.find(class_=user_search_class_name)\n",
    "print(items)\n",
    "\n",
    "user_block = soup.find_all(class_=user_search_class_name)\n",
    "user_block_class_name = user_block.find_all(\"div\")\n",
    "print(user_block_class_name)\n",
    "\n",
    "# print(user_search_class_name)\n",
    "# user_info = item.find(class_=fb.clearfix_flag)\n",
    "# user_name_block = user_info.div.find(class_=fb.clearfix_flag).find_all(\"div\")\n",
    "# user_name_class_name = user_name_block[-1].a.get(\"class\")[0]\n",
    "# print(user_name_class_name)"
   ]
  },
  {
   "cell_type": "code",
   "execution_count": null,
   "metadata": {},
   "outputs": [],
   "source": []
  },
  {
   "cell_type": "code",
   "execution_count": null,
   "metadata": {},
   "outputs": [],
   "source": []
  }
 ],
 "metadata": {
  "kernelspec": {
   "display_name": "Python 3",
   "language": "python",
   "name": "python3"
  },
  "language_info": {
   "codemirror_mode": {
    "name": "ipython",
    "version": 3
   },
   "file_extension": ".py",
   "mimetype": "text/x-python",
   "name": "python",
   "nbconvert_exporter": "python",
   "pygments_lexer": "ipython3",
   "version": "3.5.3"
  }
 },
 "nbformat": 4,
 "nbformat_minor": 2
}
