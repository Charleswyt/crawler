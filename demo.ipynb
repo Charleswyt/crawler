{
 "cells": [
  {
   "cell_type": "code",
   "execution_count": 1,
   "metadata": {},
   "outputs": [],
   "source": [
    "from facebook import *\n",
    "from utils import *"
   ]
  },
  {
   "cell_type": "code",
   "execution_count": 2,
   "metadata": {},
   "outputs": [],
   "source": [
    "user_name = \"qiao3014659@gmail.com\"\n",
    "password = \"qiao13593537918\""
   ]
  },
  {
   "cell_type": "code",
   "execution_count": 3,
   "metadata": {},
   "outputs": [],
   "source": [
    "fb = Facebook(user_name, password)"
   ]
  },
  {
   "cell_type": "code",
   "execution_count": 4,
   "metadata": {},
   "outputs": [],
   "source": [
    "fb.sign_in()"
   ]
  },
  {
   "cell_type": "code",
   "execution_count": 6,
   "metadata": {},
   "outputs": [],
   "source": [
    "fb.make_post()"
   ]
  },
  {
   "cell_type": "code",
   "execution_count": 7,
   "metadata": {},
   "outputs": [],
   "source": [
    "fb.get_friends_list(None)"
   ]
  },
  {
   "cell_type": "code",
   "execution_count": 5,
   "metadata": {},
   "outputs": [
    {
     "name": "stdout",
     "output_type": "stream",
     "text": [
      "Download completed.\n"
     ]
    }
   ],
   "source": [
    "fb.download_photos_batch(fb.user_info_friends)"
   ]
  },
  {
   "cell_type": "code",
   "execution_count": 9,
   "metadata": {},
   "outputs": [
    {
     "name": "stdout",
     "output_type": "stream",
     "text": [
      "[['你好', 100000031380685, 'https://www.facebook.com/profile.php?id=100000031380685', None], ['吳純如', 100006711912986, 'https://www.facebook.com/profile.php?id=100006711912986', '天天開心 享受人生 有限公司'], ['Nihao Mexico (你好)', 1818561726, 'https://www.facebook.com/nihaomexico', 'nihao 你好'], ['薛雅心', 100008939044587, 'https://www.facebook.com/profile.php?id=100008939044587', '天天開心 享受人生 有限公司'], ['Santini Nihao', 100000655383263, 'https://www.facebook.com/santini.khang', 'Jakarta, Indonesia']]\n"
     ]
    }
   ],
   "source": [
    "user_info_list = fb.search_users(\"你好\", 5)\n",
    "print(user_info_list)"
   ]
  },
  {
   "cell_type": "code",
   "execution_count": 9,
   "metadata": {},
   "outputs": [],
   "source": [
    "fb.download_photos_batch(user_info_list)"
   ]
  },
  {
   "cell_type": "code",
   "execution_count": 8,
   "metadata": {},
   "outputs": [
    {
     "name": "stdout",
     "output_type": "stream",
     "text": [
      "Download completed.\n"
     ]
    }
   ],
   "source": [
    "fb.get_user_photos(\"呜哈哈哈\", 5)"
   ]
  },
  {
   "cell_type": "code",
   "execution_count": 13,
   "metadata": {},
   "outputs": [
    {
     "name": "stdout",
     "output_type": "stream",
     "text": [
      "['你好', 100000031380685, 'https://www.facebook.com/profile.php?id=100000031380685&ref=br_rs', None]\n",
      "['吳純如', 100006711912986, 'https://www.facebook.com/profile.php?id=100006711912986&ref=br_rs', '天天開心 享受人生 有限公司']\n",
      "['Nihao Mexico (你好)', 1818561726, 'https://www.facebook.com/nihaomexico?ref=br_rs', 'nihao 你好']\n",
      "['薛雅心', 100008939044587, 'https://www.facebook.com/profile.php?id=100008939044587&ref=br_rs', '天天開心 享受人生 有限公司']\n",
      "['Santini Nihao', 100000655383263, 'https://www.facebook.com/santini.khang?ref=br_rs', 'Jakarta, Indonesia']\n"
     ]
    }
   ],
   "source": [
    "users_list1 = fb.search_users(\"你好\", 5)\n",
    "for user in users_list1:\n",
    "    print(user)"
   ]
  },
  {
   "cell_type": "code",
   "execution_count": 8,
   "metadata": {},
   "outputs": [
    {
     "name": "stdout",
     "output_type": "stream",
     "text": [
      "https://www.facebook.com/photo.php?fbid=443127046101549&set=pb.100012127725531.-2207520000.1523986897.&type=3&size=288%2C163\n",
      "https://www.facebook.com/photo.php?fbid=439894299758157&set=pb.100012127725531.-2207520000.1523986897.&type=3&size=960%2C632\n",
      "https://www.facebook.com/photo.php?fbid=439891943091726&set=pb.100012127725531.-2207520000.1523986897.&type=3&size=200%2C200\n",
      "https://www.facebook.com/photo.php?fbid=439884959759091&set=pb.100012127725531.-2207520000.1523986897.&type=3&size=1366%2C768\n",
      "https://www.facebook.com/photo.php?fbid=439872593093661&set=pb.100012127725531.-2207520000.1523986897.&type=3&size=1200%2C675\n"
     ]
    }
   ],
   "source": [
    "photos_list = fb.get_photos_href_list(fb.homepage_url)\n",
    "for link in photos_list:\n",
    "    print(link)"
   ]
  },
  {
   "cell_type": "code",
   "execution_count": 9,
   "metadata": {},
   "outputs": [
    {
     "name": "stdout",
     "output_type": "stream",
     "text": [
      "['https://scontent-nrt1-1.xx.fbcdn.net/v/t1.0-9/30704408_443127049434882_4689523294120968192_n.jpg?_nc_cat=0&oh=c112a4a0cea8c807797a59b762210385&oe=5B68EECB', '1523929098', None, [], '288', '163']\n",
      "['https://scontent-nrt1-1.xx.fbcdn.net/v/t1.0-9/30441634_439894306424823_9215412362943660032_n.jpg?_nc_cat=0&oh=4b404404328b89fa839fae3f9d36761b&oe=5B625676', '1523189480', None, [], '960', '632']\n",
      "['https://scontent-nrt1-1.xx.fbcdn.net/v/t1.0-9/30262108_439891946425059_5833125432660066304_n.jpg?_nc_cat=0&oh=c452aa1bb679c5508ac370da36e08422&oe=5B72A1D5', '1523189430', None, [], '200', '200']\n",
      "['https://scontent-nrt1-1.xx.fbcdn.net/v/t1.0-9/30262069_439884963092424_1605344151157604352_o.jpg?_nc_cat=0&oh=06794cdf2292c4c67288e245bbdefcf3&oe=5B73B729', None, None, [], '1366', '768']\n",
      "['https://scontent-nrt1-1.xx.fbcdn.net/v/t1.0-9/30412268_439872596426994_8140207024542580736_o.jpg?_nc_cat=0&oh=5d35af93f28a5db10419c592851ef4b2&oe=5B5C1F78', '1523186366', None, 'hhhhhhh', '1200', '675']\n"
     ]
    }
   ],
   "source": [
    "info_list = fb.get_photos_info_list(photos_list)\n",
    "for info in info_list:\n",
    "    print(info)"
   ]
  },
  {
   "cell_type": "code",
   "execution_count": 9,
   "metadata": {},
   "outputs": [
    {
     "name": "stdout",
     "output_type": "stream",
     "text": [
      "image 30704408_443127049434882_4689523294120968192_n.jpg is saved successfully.\n",
      "image 30441634_439894306424823_9215412362943660032_n.jpg is saved successfully.\n",
      "image 30262108_439891946425059_5833125432660066304_n.jpg is saved successfully.\n",
      "image 30262069_439884963092424_1605344151157604352_o.jpg is saved successfully.\n",
      "image 30412268_439872596426994_8140207024542580736_o.jpg is saved successfully.\n"
     ]
    }
   ],
   "source": [
    "fb.download_photos_one(fb.homepage_url)"
   ]
  },
  {
   "cell_type": "code",
   "execution_count": 9,
   "metadata": {},
   "outputs": [],
   "source": [
    "full_screen_element = fb.driver.find_element_by_id(\"fbPhotoSnowliftFullScreenSwitch\")"
   ]
  },
  {
   "cell_type": "code",
   "execution_count": 11,
   "metadata": {},
   "outputs": [
    {
     "name": "stdout",
     "output_type": "stream",
     "text": [
      "<selenium.webdriver.remote.webelement.WebElement (session=\"813456d8eca267da606886110d139a23\", element=\"0.84575782581803-1\")>\n"
     ]
    }
   ],
   "source": [
    "print(full_screen_element)\n",
    "full_screen_element.click()"
   ]
  },
  {
   "cell_type": "code",
   "execution_count": 6,
   "metadata": {},
   "outputs": [
    {
     "ename": "NameError",
     "evalue": "name 'users_list1' is not defined",
     "output_type": "error",
     "traceback": [
      "\u001b[1;31m---------------------------------------------------------------------------\u001b[0m",
      "\u001b[1;31mNameError\u001b[0m                                 Traceback (most recent call last)",
      "\u001b[1;32m<ipython-input-6-c4c0b437047c>\u001b[0m in \u001b[0;36m<module>\u001b[1;34m()\u001b[0m\n\u001b[1;32m----> 1\u001b[1;33m \u001b[1;32mfor\u001b[0m \u001b[0muser\u001b[0m \u001b[1;32min\u001b[0m \u001b[0musers_list1\u001b[0m\u001b[1;33m:\u001b[0m\u001b[1;33m\u001b[0m\u001b[0m\n\u001b[0m\u001b[0;32m      2\u001b[0m     \u001b[0mprint\u001b[0m\u001b[1;33m(\u001b[0m\u001b[0muser\u001b[0m\u001b[1;33m)\u001b[0m\u001b[1;33m\u001b[0m\u001b[0m\n",
      "\u001b[1;31mNameError\u001b[0m: name 'users_list1' is not defined"
     ]
    }
   ],
   "source": [
    "for user in users_list1:\n",
    "    print(user)"
   ]
  },
  {
   "cell_type": "code",
   "execution_count": 17,
   "metadata": {},
   "outputs": [
    {
     "data": {
      "text/plain": [
       "True"
      ]
     },
     "execution_count": 17,
     "metadata": {},
     "output_type": "execute_result"
    }
   ],
   "source": [
    "fb.driver.save_screenshot(\"test.png\")"
   ]
  },
  {
   "cell_type": "code",
   "execution_count": 26,
   "metadata": {},
   "outputs": [
    {
     "name": "stdout",
     "output_type": "stream",
     "text": [
      "https://www.facebook.com/nihaomexico\n"
     ]
    }
   ],
   "source": [
    "a = 'https://www.facebook.com/nihaomexico?ref=br_rs'\n",
    "print(a.split(\"?\")[0])"
   ]
  },
  {
   "cell_type": "code",
   "execution_count": 14,
   "metadata": {},
   "outputs": [
    {
     "name": "stdout",
     "output_type": "stream",
     "text": [
      "3\n",
      "[1, 2, 3]\n"
     ]
    },
    {
     "ename": "IndexError",
     "evalue": "list index out of range",
     "output_type": "error",
     "traceback": [
      "\u001b[1;31m---------------------------------------------------------------------------\u001b[0m",
      "\u001b[1;31mIndexError\u001b[0m                                Traceback (most recent call last)",
      "\u001b[1;32m<ipython-input-14-4e9021fb25e0>\u001b[0m in \u001b[0;36m<module>\u001b[1;34m()\u001b[0m\n\u001b[0;32m      2\u001b[0m \u001b[0mprint\u001b[0m\u001b[1;33m(\u001b[0m\u001b[0mlen\u001b[0m\u001b[1;33m(\u001b[0m\u001b[0ma\u001b[0m\u001b[1;33m)\u001b[0m\u001b[1;33m)\u001b[0m\u001b[1;33m\u001b[0m\u001b[0m\n\u001b[0;32m      3\u001b[0m \u001b[0mprint\u001b[0m\u001b[1;33m(\u001b[0m\u001b[0ma\u001b[0m\u001b[1;33m[\u001b[0m\u001b[1;36m0\u001b[0m\u001b[1;33m]\u001b[0m\u001b[1;33m)\u001b[0m\u001b[1;33m\u001b[0m\u001b[0m\n\u001b[1;32m----> 4\u001b[1;33m \u001b[0mprint\u001b[0m\u001b[1;33m(\u001b[0m\u001b[0ma\u001b[0m\u001b[1;33m[\u001b[0m\u001b[1;36m0\u001b[0m\u001b[1;33m:\u001b[0m\u001b[1;36m2\u001b[0m\u001b[1;33m]\u001b[0m\u001b[1;33m[\u001b[0m\u001b[1;36m2\u001b[0m\u001b[1;33m]\u001b[0m\u001b[1;33m)\u001b[0m\u001b[1;33m\u001b[0m\u001b[0m\n\u001b[0m",
      "\u001b[1;31mIndexError\u001b[0m: list index out of range"
     ]
    }
   ],
   "source": [
    "a = [[1,2,3], [4,5,6], [7,8,9]]\n",
    "print(len(a))\n",
    "print(a[0])\n"
   ]
  },
  {
   "cell_type": "code",
   "execution_count": 12,
   "metadata": {},
   "outputs": [
    {
     "data": {
      "text/plain": [
       "True"
      ]
     },
     "execution_count": 12,
     "metadata": {},
     "output_type": "execute_result"
    }
   ],
   "source": [
    "os.path.exists(\"./cookies/cookies(111).json\")"
   ]
  },
  {
   "cell_type": "code",
   "execution_count": 10,
   "metadata": {},
   "outputs": [
    {
     "name": "stdout",
     "output_type": "stream",
     "text": [
      "<generator object fab at 0x000000000B3DADB0>\n"
     ]
    }
   ],
   "source": [
    "def fab(max): \n",
    "    n, a, b = 0, 0, 1 \n",
    "    while n < max: \n",
    "        yield b\n",
    "        # print b\n",
    "        a, b = b, a + b\n",
    "        n = n + 1\n",
    "c = fab(5)\n",
    "print(c)"
   ]
  },
  {
   "cell_type": "code",
   "execution_count": 11,
   "metadata": {},
   "outputs": [
    {
     "name": "stdout",
     "output_type": "stream",
     "text": [
      "1970-01-01 08:01:51\n"
     ]
    }
   ],
   "source": [
    "print(utils.get_time(111))"
   ]
  },
  {
   "cell_type": "code",
   "execution_count": 12,
   "metadata": {},
   "outputs": [
    {
     "data": {
      "text/plain": [
       "111"
      ]
     },
     "execution_count": 12,
     "metadata": {},
     "output_type": "execute_result"
    }
   ],
   "source": [
    "get_unix_stamp(_time_string=\"1970-01-01 08:01:51\")"
   ]
  },
  {
   "cell_type": "code",
   "execution_count": 5,
   "metadata": {},
   "outputs": [
    {
     "name": "stdout",
     "output_type": "stream",
     "text": [
      "https://www.facebook.com/\n"
     ]
    }
   ],
   "source": [
    "print(fb.driver.current_url)"
   ]
  },
  {
   "cell_type": "code",
   "execution_count": null,
   "metadata": {},
   "outputs": [],
   "source": []
  }
 ],
 "metadata": {
  "kernelspec": {
   "display_name": "Python 3",
   "language": "python",
   "name": "python3"
  },
  "language_info": {
   "codemirror_mode": {
    "name": "ipython",
    "version": 3
   },
   "file_extension": ".py",
   "mimetype": "text/x-python",
   "name": "python",
   "nbconvert_exporter": "python",
   "pygments_lexer": "ipython3",
   "version": "3.5.3"
  }
 },
 "nbformat": 4,
 "nbformat_minor": 2
}
