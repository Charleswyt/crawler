{
 "cells": [
  {
   "cell_type": "code",
   "execution_count": 1,
   "metadata": {},
   "outputs": [],
   "source": [
    "from facebook import *\n",
    "from utils import *"
   ]
  },
  {
   "cell_type": "code",
   "execution_count": 2,
   "metadata": {},
   "outputs": [],
   "source": [
    "user_name_for_upload = \"qiao3014659@gmail.com\"\n",
    "password_for_upload = \"qiao13593537918\"\n",
    "\n",
    "user_name_for_download = \"mediasecurity@163.com\"\n",
    "password_for_download = \"Sklois&27\""
   ]
  },
  {
   "cell_type": "markdown",
   "metadata": {},
   "source": [
    "# 图片上传"
   ]
  },
  {
   "cell_type": "code",
   "execution_count": 3,
   "metadata": {},
   "outputs": [],
   "source": [
    "fb = Facebook(user_name_for_upload, password_for_upload) # Facebook类初始化"
   ]
  },
  {
   "cell_type": "code",
   "execution_count": 4,
   "metadata": {},
   "outputs": [],
   "source": [
    "fb.sign_in() # 账户登录"
   ]
  },
  {
   "cell_type": "code",
   "execution_count": 5,
   "metadata": {},
   "outputs": [],
   "source": [
    "fb.make_post() # 状态发布"
   ]
  },
  {
   "cell_type": "code",
   "execution_count": 6,
   "metadata": {},
   "outputs": [],
   "source": [
    "fb.driver.quit() # 关闭浏览器"
   ]
  },
  {
   "cell_type": "markdown",
   "metadata": {},
   "source": [
    "# 图片下载"
   ]
  },
  {
   "cell_type": "code",
   "execution_count": 3,
   "metadata": {},
   "outputs": [],
   "source": [
    "fb = Facebook(user_name_for_download, password_for_download) # Facebook类初始化"
   ]
  },
  {
   "cell_type": "code",
   "execution_count": 5,
   "metadata": {},
   "outputs": [],
   "source": [
    "fb.sign_in() # 账户登录"
   ]
  },
  {
   "cell_type": "code",
   "execution_count": 5,
   "metadata": {},
   "outputs": [],
   "source": [
    "user_name = \"qiaofengchun\" # 待检索用户昵称\n",
    "user_number = 3            # 待检索用户数量\n",
    "\n",
    "user_info_list = fb.search_users(user_name=user_name, user_number=user_number) # 获取用户信息"
   ]
  },
  {
   "cell_type": "code",
   "execution_count": 6,
   "metadata": {},
   "outputs": [
    {
     "name": "stdout",
     "output_type": "stream",
     "text": [
      "No. 1 user info: ['Qiao Fengchun', '100012127725531', 'https://www.facebook.com/qiao.fengchun', '']\n",
      "No. 2 user info: ['喬奉純', '100002686100750', 'https://www.facebook.com/afratuzdufeyh', '曾经就读：私立環球科技大學']\n"
     ]
    }
   ],
   "source": [
    "index = 1\n",
    "for user_info in user_info_list:\n",
    "    print(\"No.\", index, \"user info:\", user_info)\n",
    "    index += 1"
   ]
  },
  {
   "cell_type": "markdown",
   "metadata": {},
   "source": [
    "## 图像批量下载"
   ]
  },
  {
   "cell_type": "code",
   "execution_count": 7,
   "metadata": {},
   "outputs": [
    {
     "name": "stdout",
     "output_type": "stream",
     "text": [
      "image 31282821_446571725757081_5113131803946778624_o.jpg is saved successfully.\n",
      "image 31265469_446571662423754_3175787492557193216_o.jpg is saved successfully.\n",
      "image 31287211_446569989090588_788366858070786048_o.jpg is saved successfully.\n",
      "image 31265296_446569935757260_8764712728423038976_o.jpg is saved successfully.\n",
      "image 31224235_446210512459869_3740708080053125120_o.jpg is saved successfully.\n",
      "image 31230517_446210379126549_5558883309724893184_o.jpg is saved successfully.\n",
      "image 31180013_446210359126551_659947662337900544_o.jpg is saved successfully.\n",
      "image 31237168_446166192464301_6127088834237693952_o.jpg is saved successfully.\n",
      "image 31265640_446166142464306_3428944061963173888_o.jpg is saved successfully.\n",
      "image 31363315_446166125797641_539839997121921024_o.jpg is saved successfully.\n",
      "image 30704408_443127049434882_4689523294120968192_n.jpg is saved successfully.\n",
      "image 30441634_439894306424823_9215412362943660032_n.jpg is saved successfully.\n",
      "image 30262108_439891946425059_5833125432660066304_n.jpg is saved successfully.\n",
      "image 283120_108691909230345_4192083_n.jpg is saved successfully.\n",
      "Download completed.\n"
     ]
    }
   ],
   "source": [
    "fb.download_photos_batch(user_info_list, \"photos\")"
   ]
  },
  {
   "cell_type": "code",
   "execution_count": 6,
   "metadata": {},
   "outputs": [],
   "source": [
    "fb.get(\"https://www.facebook.com/search/str/qiaofengchun/keywords_users\")"
   ]
  },
  {
   "cell_type": "code",
   "execution_count": 7,
   "metadata": {},
   "outputs": [
    {
     "name": "stdout",
     "output_type": "stream",
     "text": [
      "//*[@id=\"BrowseResultsContainer\"]/div[1]\n"
     ]
    }
   ],
   "source": [
    "print(fb.browse_results_container)"
   ]
  },
  {
   "cell_type": "code",
   "execution_count": 10,
   "metadata": {},
   "outputs": [],
   "source": [
    "element = fb.driver.find_element_by_id(\"BrowseResultsContainer\")"
   ]
  },
  {
   "cell_type": "code",
   "execution_count": null,
   "metadata": {},
   "outputs": [],
   "source": []
  }
 ],
 "metadata": {
  "kernelspec": {
   "display_name": "Python 3",
   "language": "python",
   "name": "python3"
  },
  "language_info": {
   "codemirror_mode": {
    "name": "ipython",
    "version": 3
   },
   "file_extension": ".py",
   "mimetype": "text/x-python",
   "name": "python",
   "nbconvert_exporter": "python",
   "pygments_lexer": "ipython3",
   "version": "3.5.3"
  }
 },
 "nbformat": 4,
 "nbformat_minor": 2
}
