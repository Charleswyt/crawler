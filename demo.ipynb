{
 "cells": [
  {
   "cell_type": "code",
   "execution_count": 1,
   "metadata": {},
   "outputs": [],
   "source": [
    "from facebook import *\n",
    "from utils import *"
   ]
  },
  {
   "cell_type": "code",
   "execution_count": 2,
   "metadata": {},
   "outputs": [],
   "source": [
    "user_name_for_upload = \"qiao3014659@gmail.com\"\n",
    "password_for_upload = \"qiao13593537918\"\n",
    "\n",
    "user_name_for_download = \"mediasecurity@163.com\"\n",
    "password_for_download = \"Sklois&27\""
   ]
  },
  {
   "cell_type": "markdown",
   "metadata": {},
   "source": [
    "# 图片上传"
   ]
  },
  {
   "cell_type": "code",
   "execution_count": 10,
   "metadata": {},
   "outputs": [],
   "source": [
    "fb = Facebook(user_name_for_upload, password_for_upload) # Facebook类初始化"
   ]
  },
  {
   "cell_type": "code",
   "execution_count": null,
   "metadata": {},
   "outputs": [],
   "source": [
    "fb.sign_in() # 账户登录"
   ]
  },
  {
   "cell_type": "code",
   "execution_count": 11,
   "metadata": {},
   "outputs": [],
   "source": [
    "fb.make_post() # 状态发布"
   ]
  },
  {
   "cell_type": "code",
   "execution_count": 8,
   "metadata": {},
   "outputs": [],
   "source": [
    "fb.driver.quit() # 关闭浏览器"
   ]
  },
  {
   "cell_type": "markdown",
   "metadata": {},
   "source": [
    "图片下载"
   ]
  },
  {
   "cell_type": "code",
   "execution_count": 3,
   "metadata": {},
   "outputs": [],
   "source": [
    "fb = Facebook(user_name_for_download, password_for_download) # Facebook类初始化"
   ]
  },
  {
   "cell_type": "code",
   "execution_count": 4,
   "metadata": {},
   "outputs": [],
   "source": [
    "fb.sign_in() # 账户登录"
   ]
  },
  {
   "cell_type": "code",
   "execution_count": 13,
   "metadata": {},
   "outputs": [],
   "source": [
    "user_info_list = fb.search_users(user_name=\"qiaofengchun\", user_number=3) # 获取用户信息"
   ]
  },
  {
   "cell_type": "code",
   "execution_count": 14,
   "metadata": {},
   "outputs": [
    {
     "name": "stdout",
     "output_type": "stream",
     "text": [
      "['https://scontent-nrt1-1.xx.fbcdn.net/v/t1.0-9/31224235_446210512459869_3740708080053125120_o.jpg?_nc_cat=0&oh=bc11dbc7eb2b932dd9d32cb95438971d&oe=5B5F9EB0', '1524639177', None, [], '1050', '693']\n",
      "['https://scontent-nrt1-1.xx.fbcdn.net/v/t1.0-9/31230517_446210379126549_5558883309724893184_o.jpg?_nc_cat=0&oh=45cff6fb4a2c3c7acf3ea702a9af34d3&oe=5B5C1E40', None, None, [], '1050', '591']\n",
      "['https://scontent-nrt1-1.xx.fbcdn.net/v/t1.0-9/31180013_446210359126551_659947662337900544_o.jpg?_nc_cat=0&oh=dd28df40a119a8c78825c024e42a2a75&oe=5B650EED', '1524639171', None, [], '1050', '591']\n",
      "['https://scontent-nrt1-1.xx.fbcdn.net/v/t1.0-9/31275699_446210352459885_4530997623183638528_o.jpg?_nc_cat=0&oh=29f14d7a71ea9d26162c473bb670d368&oe=5B9C100B', '1524639171', None, [], '1050', '657']\n",
      "['https://scontent-nrt1-1.xx.fbcdn.net/v/t1.0-9/31237168_446166192464301_6127088834237693952_o.jpg?_nc_cat=0&oh=4d66960eb408dd97c1481aa23f9df20b&oe=5B69D5E4', '1524627134', None, [], '1200', '791']\n",
      "['https://scontent-nrt1-1.xx.fbcdn.net/v/t1.0-9/31265640_446166142464306_3428944061963173888_o.jpg?_nc_cat=0&oh=4481281a91daa137a5766e6a16a36069&oe=5B63C33D', '1524627134', None, [], '1200', '675']\n",
      "['https://scontent-nrt1-1.xx.fbcdn.net/v/t1.0-9/31363315_446166125797641_539839997121921024_o.jpg?_nc_cat=0&oh=c9830589e93d0f337d18b72124cd54f8&oe=5B6A4BA0', '1524627134', None, [], '1200', '750']\n",
      "['https://scontent-nrt1-1.xx.fbcdn.net/v/t1.0-9/31357571_446166115797642_9194874074147323904_o.jpg?_nc_cat=0&oh=375553a4a2cdd1bf75d6ee854e1baf25&oe=5B68B220', '1524627134', None, [], '1200', '675']\n",
      "['https://scontent-nrt1-1.xx.fbcdn.net/v/t1.0-9/30704408_443127049434882_4689523294120968192_n.jpg?_nc_cat=0&oh=c112a4a0cea8c807797a59b762210385&oe=5B68EECB', '1523929098', None, [], '288', '163']\n",
      "['https://scontent-nrt1-1.xx.fbcdn.net/v/t1.0-9/30441634_439894306424823_9215412362943660032_n.jpg?_nc_cat=0&oh=4b404404328b89fa839fae3f9d36761b&oe=5B625676', '1523189480', None, [], '960', '632']\n",
      "['https://scontent-nrt1-1.xx.fbcdn.net/v/t1.0-9/30262108_439891946425059_5833125432660066304_n.jpg?_nc_cat=0&oh=1b8dfdc24ea41415330f1e8224019788&oe=5B9A2ED5', '1523189430', None, [], '200', '200']\n"
     ]
    }
   ],
   "source": [
    "index = 1\n",
    "for user_info in user_info_list:\n",
    "    print(\"No.\", index, \"user info:\", user_info)"
   ]
  },
  {
   "cell_type": "code",
   "execution_count": 17,
   "metadata": {},
   "outputs": [
    {
     "name": "stdout",
     "output_type": "stream",
     "text": [
      "image 31224235_446210512459869_3740708080053125120_o.jpg is saved successfully.\n",
      "image 31230517_446210379126549_5558883309724893184_o.jpg is saved successfully.\n",
      "image 31180013_446210359126551_659947662337900544_o.jpg is saved successfully.\n",
      "image 31275699_446210352459885_4530997623183638528_o.jpg is saved successfully.\n",
      "image 31237168_446166192464301_6127088834237693952_o.jpg is saved successfully.\n",
      "image 31265640_446166142464306_3428944061963173888_o.jpg is saved successfully.\n",
      "image 31363315_446166125797641_539839997121921024_o.jpg is saved successfully.\n",
      "image 31357571_446166115797642_9194874074147323904_o.jpg is saved successfully.\n",
      "image 30704408_443127049434882_4689523294120968192_n.jpg is saved successfully.\n",
      "image 30441634_439894306424823_9215412362943660032_n.jpg is saved successfully.\n",
      "image 30262108_439891946425059_5833125432660066304_n.jpg is saved successfully.\n"
     ]
    }
   ],
   "source": [
    "fb.download_photos_batch(user_info_list)"
   ]
  },
  {
   "cell_type": "code",
   "execution_count": 11,
   "metadata": {},
   "outputs": [
    {
     "name": "stdout",
     "output_type": "stream",
     "text": [
      "image 31224235_446210512459869_3740708080053125120_o.jpg is saved successfully.\n"
     ]
    }
   ],
   "source": [
    "url = \"https://scontent-nrt1-1.xx.fbcdn.net/v/t1.0-9/31224235_446210512459869_3740708080053125120_o.jpg?_nc_cat=0&oh=bc11dbc7eb2b932dd9d32cb95438971d&oe=5B5F9EB0\"\n",
    "utils.download_photos(url)"
   ]
  },
  {
   "cell_type": "code",
   "execution_count": 9,
   "metadata": {},
   "outputs": [
    {
     "name": "stdout",
     "output_type": "stream",
     "text": [
      "['https://scontent-nrt1-1.xx.fbcdn.net/v/t1.0-9/30704408_443127049434882_4689523294120968192_n.jpg?_nc_cat=0&oh=c112a4a0cea8c807797a59b762210385&oe=5B68EECB', '1523929098', None, [], '288', '163']\n",
      "['https://scontent-nrt1-1.xx.fbcdn.net/v/t1.0-9/30441634_439894306424823_9215412362943660032_n.jpg?_nc_cat=0&oh=4b404404328b89fa839fae3f9d36761b&oe=5B625676', '1523189480', None, [], '960', '632']\n",
      "['https://scontent-nrt1-1.xx.fbcdn.net/v/t1.0-9/30262108_439891946425059_5833125432660066304_n.jpg?_nc_cat=0&oh=c452aa1bb679c5508ac370da36e08422&oe=5B72A1D5', '1523189430', None, [], '200', '200']\n",
      "['https://scontent-nrt1-1.xx.fbcdn.net/v/t1.0-9/30262069_439884963092424_1605344151157604352_o.jpg?_nc_cat=0&oh=06794cdf2292c4c67288e245bbdefcf3&oe=5B73B729', None, None, [], '1366', '768']\n",
      "['https://scontent-nrt1-1.xx.fbcdn.net/v/t1.0-9/30412268_439872596426994_8140207024542580736_o.jpg?_nc_cat=0&oh=5d35af93f28a5db10419c592851ef4b2&oe=5B5C1F78', '1523186366', None, 'hhhhhhh', '1200', '675']\n"
     ]
    }
   ],
   "source": [
    "info_list = fb.get_photos_info_list(photos_list)\n",
    "for info in info_list:\n",
    "    print(info)"
   ]
  },
  {
   "cell_type": "code",
   "execution_count": 9,
   "metadata": {},
   "outputs": [
    {
     "name": "stdout",
     "output_type": "stream",
     "text": [
      "image 30704408_443127049434882_4689523294120968192_n.jpg is saved successfully.\n",
      "image 30441634_439894306424823_9215412362943660032_n.jpg is saved successfully.\n",
      "image 30262108_439891946425059_5833125432660066304_n.jpg is saved successfully.\n",
      "image 30262069_439884963092424_1605344151157604352_o.jpg is saved successfully.\n",
      "image 30412268_439872596426994_8140207024542580736_o.jpg is saved successfully.\n"
     ]
    }
   ],
   "source": [
    "fb.download_photos_one(fb.homepage_url)"
   ]
  },
  {
   "cell_type": "code",
   "execution_count": 9,
   "metadata": {},
   "outputs": [],
   "source": [
    "full_screen_element = fb.driver.find_element_by_id(\"fbPhotoSnowliftFullScreenSwitch\")"
   ]
  },
  {
   "cell_type": "code",
   "execution_count": 11,
   "metadata": {},
   "outputs": [
    {
     "name": "stdout",
     "output_type": "stream",
     "text": [
      "<selenium.webdriver.remote.webelement.WebElement (session=\"813456d8eca267da606886110d139a23\", element=\"0.84575782581803-1\")>\n"
     ]
    }
   ],
   "source": [
    "print(full_screen_element)\n",
    "full_screen_element.click()"
   ]
  },
  {
   "cell_type": "code",
   "execution_count": 5,
   "metadata": {
    "scrolled": false
   },
   "outputs": [],
   "source": [
    "user_info_list = fb.search_users(user_name=\"qiaofengchun\", user_number=3)"
   ]
  },
  {
   "cell_type": "code",
   "execution_count": 6,
   "metadata": {},
   "outputs": [
    {
     "name": "stdout",
     "output_type": "stream",
     "text": [
      "['Qiao Fengchun', '100012127725531', 'https://www.facebook.com/qiao.fengchun', '']\n",
      "['喬奉純', '100002686100750', 'https://www.facebook.com/afratuzdufeyh', '曾经就读：私立環球科技大學']\n"
     ]
    }
   ],
   "source": [
    "for user_info in user_info_list:\n",
    "    print(user_info)"
   ]
  },
  {
   "cell_type": "code",
   "execution_count": 26,
   "metadata": {},
   "outputs": [
    {
     "name": "stdout",
     "output_type": "stream",
     "text": [
      "https://www.facebook.com/nihaomexico\n"
     ]
    }
   ],
   "source": [
    "a = 'https://www.facebook.com/nihaomexico?ref=br_rs'\n",
    "print(a.split(\"?\")[0])"
   ]
  },
  {
   "cell_type": "code",
   "execution_count": 14,
   "metadata": {},
   "outputs": [
    {
     "name": "stdout",
     "output_type": "stream",
     "text": [
      "3\n",
      "[1, 2, 3]\n"
     ]
    },
    {
     "ename": "IndexError",
     "evalue": "list index out of range",
     "output_type": "error",
     "traceback": [
      "\u001b[1;31m---------------------------------------------------------------------------\u001b[0m",
      "\u001b[1;31mIndexError\u001b[0m                                Traceback (most recent call last)",
      "\u001b[1;32m<ipython-input-14-4e9021fb25e0>\u001b[0m in \u001b[0;36m<module>\u001b[1;34m()\u001b[0m\n\u001b[0;32m      2\u001b[0m \u001b[0mprint\u001b[0m\u001b[1;33m(\u001b[0m\u001b[0mlen\u001b[0m\u001b[1;33m(\u001b[0m\u001b[0ma\u001b[0m\u001b[1;33m)\u001b[0m\u001b[1;33m)\u001b[0m\u001b[1;33m\u001b[0m\u001b[0m\n\u001b[0;32m      3\u001b[0m \u001b[0mprint\u001b[0m\u001b[1;33m(\u001b[0m\u001b[0ma\u001b[0m\u001b[1;33m[\u001b[0m\u001b[1;36m0\u001b[0m\u001b[1;33m]\u001b[0m\u001b[1;33m)\u001b[0m\u001b[1;33m\u001b[0m\u001b[0m\n\u001b[1;32m----> 4\u001b[1;33m \u001b[0mprint\u001b[0m\u001b[1;33m(\u001b[0m\u001b[0ma\u001b[0m\u001b[1;33m[\u001b[0m\u001b[1;36m0\u001b[0m\u001b[1;33m:\u001b[0m\u001b[1;36m2\u001b[0m\u001b[1;33m]\u001b[0m\u001b[1;33m[\u001b[0m\u001b[1;36m2\u001b[0m\u001b[1;33m]\u001b[0m\u001b[1;33m)\u001b[0m\u001b[1;33m\u001b[0m\u001b[0m\n\u001b[0m",
      "\u001b[1;31mIndexError\u001b[0m: list index out of range"
     ]
    }
   ],
   "source": [
    "a = [[1,2,3], [4,5,6], [7,8,9]]\n",
    "print(len(a))\n",
    "print(a[0])\n"
   ]
  },
  {
   "cell_type": "code",
   "execution_count": 12,
   "metadata": {},
   "outputs": [
    {
     "data": {
      "text/plain": [
       "True"
      ]
     },
     "execution_count": 12,
     "metadata": {},
     "output_type": "execute_result"
    }
   ],
   "source": [
    "os.path.exists(\"./cookies/cookies(111).json\")"
   ]
  },
  {
   "cell_type": "code",
   "execution_count": 10,
   "metadata": {},
   "outputs": [
    {
     "name": "stdout",
     "output_type": "stream",
     "text": [
      "<generator object fab at 0x000000000B3DADB0>\n"
     ]
    }
   ],
   "source": [
    "def fab(max): \n",
    "    n, a, b = 0, 0, 1 \n",
    "    while n < max: \n",
    "        yield b\n",
    "        # print b\n",
    "        a, b = b, a + b\n",
    "        n = n + 1\n",
    "c = fab(5)\n",
    "print(c)"
   ]
  },
  {
   "cell_type": "code",
   "execution_count": 11,
   "metadata": {},
   "outputs": [
    {
     "name": "stdout",
     "output_type": "stream",
     "text": [
      "1970-01-01 08:01:51\n"
     ]
    }
   ],
   "source": [
    "print(utils.get_time(111))"
   ]
  },
  {
   "cell_type": "code",
   "execution_count": 12,
   "metadata": {},
   "outputs": [
    {
     "data": {
      "text/plain": [
       "111"
      ]
     },
     "execution_count": 12,
     "metadata": {},
     "output_type": "execute_result"
    }
   ],
   "source": [
    "get_unix_stamp(_time_string=\"1970-01-01 08:01:51\")"
   ]
  },
  {
   "cell_type": "code",
   "execution_count": 5,
   "metadata": {},
   "outputs": [
    {
     "name": "stdout",
     "output_type": "stream",
     "text": [
      "https://www.facebook.com/\n"
     ]
    }
   ],
   "source": [
    "print(fb.driver.current_url)"
   ]
  },
  {
   "cell_type": "code",
   "execution_count": null,
   "metadata": {},
   "outputs": [],
   "source": []
  }
 ],
 "metadata": {
  "kernelspec": {
   "display_name": "Python 3",
   "language": "python",
   "name": "python3"
  },
  "language_info": {
   "codemirror_mode": {
    "name": "ipython",
    "version": 3
   },
   "file_extension": ".py",
   "mimetype": "text/x-python",
   "name": "python",
   "nbconvert_exporter": "python",
   "pygments_lexer": "ipython3",
   "version": "3.5.3"
  }
 },
 "nbformat": 4,
 "nbformat_minor": 2
}
