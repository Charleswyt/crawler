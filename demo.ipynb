{
 "cells": [
  {
   "cell_type": "code",
   "execution_count": 1,
   "metadata": {},
   "outputs": [],
   "source": [
    "from facebook import *\n",
    "from utils import *"
   ]
  },
  {
   "cell_type": "code",
   "execution_count": 2,
   "metadata": {},
   "outputs": [],
   "source": [
    "user_name = \"qiao3014659@gmail.com\"\n",
    "password = \"qiao13593537918\""
   ]
  },
  {
   "cell_type": "code",
   "execution_count": 3,
   "metadata": {},
   "outputs": [],
   "source": [
    "fb = Facebook(user_name, password)"
   ]
  },
  {
   "cell_type": "code",
   "execution_count": 4,
   "metadata": {},
   "outputs": [],
   "source": [
    "fb.sign_in()"
   ]
  },
  {
   "cell_type": "code",
   "execution_count": 5,
   "metadata": {},
   "outputs": [],
   "source": [
    "fb.make_post()"
   ]
  },
  {
   "cell_type": "code",
   "execution_count": 5,
   "metadata": {},
   "outputs": [
    {
     "name": "stdout",
     "output_type": "stream",
     "text": [
      "my name: Qiao Fengchun\n",
      "my id: 100012127725531\n",
      "my homepage url: https://www.facebook.com/qiao.fengchun\n"
     ]
    }
   ],
   "source": [
    "fb.get_myself_info()\n",
    "print(\"my name: %s\" % fb.user_name)\n",
    "print(\"my id: %s\" % fb.user_id)\n",
    "print(\"my homepage url: %s\" % fb.homepage_url)"
   ]
  },
  {
   "cell_type": "code",
   "execution_count": 7,
   "metadata": {},
   "outputs": [
    {
     "name": "stdout",
     "output_type": "stream",
     "text": [
      "2\n"
     ]
    }
   ],
   "source": [
    "fb.get_friends_number()\n",
    "print(fb.friends_number)"
   ]
  },
  {
   "cell_type": "code",
   "execution_count": 8,
   "metadata": {},
   "outputs": [
    {
     "name": "stdout",
     "output_type": "stream",
     "text": [
      "['周明星', '100022483429126', 'https://www.facebook.com/profile.php?id=100022483429126']\n",
      "['Yijie Dong', '100008203770893', 'https://www.facebook.com/profile.php?id=100008203770893']\n"
     ]
    }
   ],
   "source": [
    "fb.get_friends_list(3)\n",
    "for friend in fb.user_info_friends:\n",
    "    print(friend)"
   ]
  },
  {
   "cell_type": "code",
   "execution_count": 9,
   "metadata": {},
   "outputs": [],
   "source": [
    "user_list = fb.search_users(\"12345678910010101\")"
   ]
  },
  {
   "cell_type": "code",
   "execution_count": 9,
   "metadata": {},
   "outputs": [
    {
     "name": "stdout",
     "output_type": "stream",
     "text": [
      "[]\n"
     ]
    }
   ],
   "source": [
    "print(user_list)"
   ]
  },
  {
   "cell_type": "code",
   "execution_count": 6,
   "metadata": {},
   "outputs": [
    {
     "name": "stdout",
     "output_type": "stream",
     "text": [
      "['你好', 100000031380685, 'https://www.facebook.com/profile.php?id=100000031380685&ref=br_rs', None]\n",
      "['Nihao Mexico (你好)', 1818561726, 'https://www.facebook.com/nihaomexico?ref=br_rs', 'nihao 你好']\n",
      "['薛雅心', 100008939044587, 'https://www.facebook.com/profile.php?id=100008939044587&ref=br_rs', '天天開心 享受人生 有限公司']\n",
      "['Santini Nihao', 100000655383263, 'https://www.facebook.com/santini.khang?ref=br_rs', 'Jakarta, Indonesia']\n",
      "['嗨你好 (嗨你好)', 100000246677690, 'https://www.facebook.com/rose58044?ref=br_rs', None]\n"
     ]
    }
   ],
   "source": [
    "# users_list1 = fb.search_users(\"你好\", 5)\n",
    "for user in users_list1:\n",
    "    print(user)"
   ]
  },
  {
   "cell_type": "code",
   "execution_count": 6,
   "metadata": {},
   "outputs": [
    {
     "name": "stdout",
     "output_type": "stream",
     "text": [
      "https://www.facebook.com/photo.php?fbid=443127046101549&set=pb.100012127725531.-2207520000.1523980228.&type=3&size=288%2C163\n",
      "https://www.facebook.com/photo.php?fbid=439894299758157&set=pb.100012127725531.-2207520000.1523980228.&type=3&size=960%2C632\n",
      "https://www.facebook.com/photo.php?fbid=439891943091726&set=pb.100012127725531.-2207520000.1523980228.&type=3&size=200%2C200\n",
      "https://www.facebook.com/photo.php?fbid=439884959759091&set=pb.100012127725531.-2207520000.1523980228.&type=3&size=1366%2C768\n",
      "https://www.facebook.com/photo.php?fbid=439872593093661&set=pb.100012127725531.-2207520000.1523980228.&type=3&size=1200%2C675\n"
     ]
    }
   ],
   "source": [
    "photos_list = fb.get_photos_href_list(fb.homepage_url)\n",
    "for link in photos_list:\n",
    "    print(link)"
   ]
  },
  {
   "cell_type": "code",
   "execution_count": null,
   "metadata": {},
   "outputs": [],
   "source": [
    "info_list = fb.get_photos_info_list(photos_list)\n",
    "for info in info_list:\n",
    "    print(info)"
   ]
  },
  {
   "cell_type": "code",
   "execution_count": 13,
   "metadata": {},
   "outputs": [
    {
     "data": {
      "text/plain": [
       "False"
      ]
     },
     "execution_count": 13,
     "metadata": {},
     "output_type": "execute_result"
    }
   ],
   "source": [
    "bottom_element is None"
   ]
  },
  {
   "cell_type": "code",
   "execution_count": 9,
   "metadata": {},
   "outputs": [],
   "source": [
    "full_screen_element = fb.driver.find_element_by_id(\"fbPhotoSnowliftFullScreenSwitch\")"
   ]
  },
  {
   "cell_type": "code",
   "execution_count": 11,
   "metadata": {},
   "outputs": [
    {
     "name": "stdout",
     "output_type": "stream",
     "text": [
      "<selenium.webdriver.remote.webelement.WebElement (session=\"813456d8eca267da606886110d139a23\", element=\"0.84575782581803-1\")>\n"
     ]
    }
   ],
   "source": [
    "print(full_screen_element)\n",
    "full_screen_element.click()"
   ]
  },
  {
   "cell_type": "code",
   "execution_count": null,
   "metadata": {},
   "outputs": [],
   "source": []
  }
 ],
 "metadata": {
  "kernelspec": {
   "display_name": "Python 3",
   "language": "python",
   "name": "python3"
  },
  "language_info": {
   "codemirror_mode": {
    "name": "ipython",
    "version": 3
   },
   "file_extension": ".py",
   "mimetype": "text/x-python",
   "name": "python",
   "nbconvert_exporter": "python",
   "pygments_lexer": "ipython3",
   "version": "3.5.3"
  }
 },
 "nbformat": 4,
 "nbformat_minor": 2
}
