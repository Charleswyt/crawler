{
 "cells": [
  {
   "cell_type": "code",
   "execution_count": 1,
   "metadata": {},
   "outputs": [],
   "source": [
    "from facebook import *\n",
    "from utils import *"
   ]
  },
  {
   "cell_type": "code",
   "execution_count": 2,
   "metadata": {},
   "outputs": [],
   "source": [
    "user_name_for_upload = \"qiao3014659@gmail.com\"\n",
    "password_for_upload = \"qiao13593537918\"\n",
    "\n",
    "user_name_for_download = \"mediasecurity@163.com\"\n",
    "password_for_download = \"Sklois&27\""
   ]
  },
  {
   "cell_type": "markdown",
   "metadata": {},
   "source": [
    "# 图片上传"
   ]
  },
  {
   "cell_type": "code",
   "execution_count": 3,
   "metadata": {},
   "outputs": [],
   "source": [
    "fb = Facebook(user_name_for_upload, password_for_upload) # Facebook类初始化"
   ]
  },
  {
   "cell_type": "code",
   "execution_count": 4,
   "metadata": {},
   "outputs": [],
   "source": [
    "fb.sign_in() # 账户登录"
   ]
  },
  {
   "cell_type": "code",
   "execution_count": 5,
   "metadata": {},
   "outputs": [],
   "source": [
    "fb.make_post() # 状态发布"
   ]
  },
  {
   "cell_type": "code",
   "execution_count": 6,
   "metadata": {},
   "outputs": [],
   "source": [
    "fb.driver.quit() # 关闭浏览器"
   ]
  },
  {
   "cell_type": "markdown",
   "metadata": {},
   "source": [
    "# 图片下载"
   ]
  },
  {
   "cell_type": "code",
   "execution_count": 3,
   "metadata": {},
   "outputs": [],
   "source": [
    "fb = Facebook(user_name_for_download, password_for_download) # Facebook类初始化"
   ]
  },
  {
   "cell_type": "code",
   "execution_count": 4,
   "metadata": {},
   "outputs": [],
   "source": [
    "fb.sign_in() # 账户登录"
   ]
  },
  {
   "cell_type": "code",
   "execution_count": 20,
   "metadata": {},
   "outputs": [],
   "source": [
    "user_info_list = fb.search_users(user_name=\"qiaofengchun\", user_number=3) # 获取用户信息"
   ]
  },
  {
   "cell_type": "code",
   "execution_count": 18,
   "metadata": {},
   "outputs": [],
   "source": [
    "index = 1\n",
    "for user_info in user_info_list:\n",
    "    print(\"No.\", index, \"user info:\", user_info)\n",
    "    index += 1"
   ]
  },
  {
   "cell_type": "markdown",
   "metadata": {},
   "source": [
    "## 图像批量下载"
   ]
  },
  {
   "cell_type": "code",
   "execution_count": 19,
   "metadata": {},
   "outputs": [
    {
     "name": "stdout",
     "output_type": "stream",
     "text": [
      "Download completed.\n"
     ]
    }
   ],
   "source": [
    "fb.download_photos_batch(user_info_list, \"photos\")"
   ]
  },
  {
   "cell_type": "code",
   "execution_count": 10,
   "metadata": {},
   "outputs": [],
   "source": [
    "photo_info = fb.get_photo_info(\"https://www.facebook.com/photo.php?fbid=439891943091726&set=pb.100012127725531.-2207520000.1524664258.&type=3&size=200%2C200\")"
   ]
  },
  {
   "cell_type": "code",
   "execution_count": 20,
   "metadata": {},
   "outputs": [
    {
     "name": "stdout",
     "output_type": "stream",
     "text": [
      "https://scontent-nrt1-1.xx.fbcdn.net/v/t1.0-9/30262108_439891946425059_5833125432660066304_n.jpg?_nc_cat=0&oh=1b8dfdc24ea41415330f1e8224019788&oe=5B9A2ED5\n"
     ]
    }
   ],
   "source": [
    "page = fb.driver.page_source\n",
    "soup = BeautifulSoup(page, \"html.parser\")\n",
    "spotlight = soup.find(class_=\"spotlight\")\n",
    "_link = spotlight.get(\"src\")                                            # 图片链接\n",
    "print(_link)"
   ]
  },
  {
   "cell_type": "code",
   "execution_count": 7,
   "metadata": {},
   "outputs": [
    {
     "name": "stdout",
     "output_type": "stream",
     "text": [
      "\n",
      "\n",
      "\n",
      "https://scontent-nrt1-1.xx.fbcdn.net/v/t1.0-9/31224235_446210512459869_3740708080053125120_o.jpg?_nc_cat=0&oh=bc11dbc7eb2b932dd9d32cb95438971d&oe=5B5F9EB0\n",
      "1050 693\n",
      "1524639172\n",
      "\n",
      "\n",
      "https://scontent-nrt1-1.xx.fbcdn.net/v/t1.0-9/31230517_446210379126549_5558883309724893184_o.jpg?_nc_cat=0&oh=45cff6fb4a2c3c7acf3ea702a9af34d3&oe=5B5C1E40\n",
      "1050 591\n",
      "\n",
      "\n",
      "\n",
      "https://scontent-nrt1-1.xx.fbcdn.net/v/t1.0-9/31180013_446210359126551_659947662337900544_o.jpg?_nc_cat=0&oh=dd28df40a119a8c78825c024e42a2a75&oe=5B650EED\n",
      "1050 591\n",
      "1524639171\n",
      "\n",
      "\n",
      "https://scontent-nrt1-1.xx.fbcdn.net/v/t1.0-9/31275699_446210352459885_4530997623183638528_o.jpg?_nc_cat=0&oh=29f14d7a71ea9d26162c473bb670d368&oe=5B9C100B\n",
      "1050 657\n",
      "\n",
      "\n",
      "\n",
      "https://scontent-nrt1-1.xx.fbcdn.net/v/t1.0-9/31237168_446166192464301_6127088834237693952_o.jpg?_nc_cat=0&oh=4d66960eb408dd97c1481aa23f9df20b&oe=5B69D5E4\n",
      "1200 791\n",
      "\n",
      "\n",
      "\n",
      "https://scontent-nrt1-1.xx.fbcdn.net/v/t1.0-9/31265640_446166142464306_3428944061963173888_o.jpg?_nc_cat=0&oh=4481281a91daa137a5766e6a16a36069&oe=5B63C33D\n",
      "1200 675\n",
      "1524627134\n",
      "\n",
      "\n",
      "https://scontent-nrt1-1.xx.fbcdn.net/v/t1.0-9/31363315_446166125797641_539839997121921024_o.jpg?_nc_cat=0&oh=c9830589e93d0f337d18b72124cd54f8&oe=5B6A4BA0\n",
      "1200 750\n",
      "\n",
      "\n",
      "\n",
      "https://scontent-nrt1-1.xx.fbcdn.net/v/t1.0-9/31357571_446166115797642_9194874074147323904_o.jpg?_nc_cat=0&oh=375553a4a2cdd1bf75d6ee854e1baf25&oe=5B68B220\n",
      "1200 675\n",
      "1523929098\n",
      "\n",
      "\n",
      "https://scontent-nrt1-1.xx.fbcdn.net/v/t1.0-9/30704408_443127049434882_4689523294120968192_n.jpg?_nc_cat=0&oh=c112a4a0cea8c807797a59b762210385&oe=5B68EECB\n",
      "288 163\n",
      "\n",
      "\n",
      "\n",
      "https://scontent-nrt1-1.xx.fbcdn.net/v/t1.0-9/30441634_439894306424823_9215412362943660032_n.jpg?_nc_cat=0&oh=4b404404328b89fa839fae3f9d36761b&oe=5B625676\n",
      "960 632\n",
      "1523189430\n",
      "\n",
      "\n",
      "https://scontent-nrt1-1.xx.fbcdn.net/v/t1.0-9/30262108_439891946425059_5833125432660066304_n.jpg?_nc_cat=0&oh=1b8dfdc24ea41415330f1e8224019788&oe=5B9A2ED5\n",
      "200 200\n"
     ]
    }
   ],
   "source": [
    "photos_href_list = fb.get_photos_href_list(\"https://www.facebook.com/qiao.fengchun\")\n",
    "photos_info_list = fb.get_photos_info_list(photos_href_list)"
   ]
  },
  {
   "cell_type": "code",
   "execution_count": 10,
   "metadata": {},
   "outputs": [
    {
     "name": "stdout",
     "output_type": "stream",
     "text": [
      "<span id=\"fbPhotoSnowliftTimestamp\"><a class=\"_39g5\" href=\"https://www.facebook.com/photo.php?fbid=446210509126536&amp;set=a.446210279126559.1073741831.100012127725531&amp;type=3&amp;permPage=1\"><abbr class=\"timestamp livetimestamp\" data-shorten=\"1\" data-utime=\"1524639177\" title=\"2018年4月25日 14:52\"><span class=\"timestampContent\">11 小时</span></abbr></a> </span>\n"
     ]
    }
   ],
   "source": [
    "page = fb.driver.page_source\n",
    "soup = BeautifulSoup(page, \"html.parser\")\n",
    "# spotlight = soup.find_all(\"span\", id=\"fbPhotoSnowliftTimestamp\")\n",
    "spotlight = soup.find(\"span\", {\"id\": \"fbPhotoSnowliftTimestamp\"})\n",
    "print(spotlight)"
   ]
  },
  {
   "cell_type": "code",
   "execution_count": null,
   "metadata": {},
   "outputs": [],
   "source": []
  },
  {
   "cell_type": "code",
   "execution_count": null,
   "metadata": {},
   "outputs": [],
   "source": []
  }
 ],
 "metadata": {
  "kernelspec": {
   "display_name": "Python 3",
   "language": "python",
   "name": "python3"
  },
  "language_info": {
   "codemirror_mode": {
    "name": "ipython",
    "version": 3
   },
   "file_extension": ".py",
   "mimetype": "text/x-python",
   "name": "python",
   "nbconvert_exporter": "python",
   "pygments_lexer": "ipython3",
   "version": "3.5.3"
  }
 },
 "nbformat": 4,
 "nbformat_minor": 2
}
